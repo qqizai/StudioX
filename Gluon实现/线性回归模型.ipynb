{
 "cells": [
  {
   "cell_type": "markdown",
   "metadata": {},
   "source": [
    "本文主要探索如何使用深度学习框架 MXNet 或 TensorFlow 实现**线性回归**模型？并且以 Kaggle 上数据集 [USA_Housing](https://www.kaggle.com/vedavyasv/usa-housing) 做线性回归任务来预测房价。\n",
    "\n",
    "回归任务，scikit-learn 亦可以实现，具体操作可以查看 [线性回归模型的原理与 scikit-learn 实现](https://www.jianshu.com/p/a65c3965e290)。\n",
    "\n",
    "## 载入数据"
   ]
  },
  {
   "cell_type": "code",
   "execution_count": 1,
   "metadata": {
    "ExecuteTime": {
     "end_time": "2018-12-02T08:13:16.241219Z",
     "start_time": "2018-12-02T08:13:15.713158Z"
    }
   },
   "outputs": [],
   "source": [
    "import pandas as pd\n",
    "import numpy as np"
   ]
  },
  {
   "cell_type": "code",
   "execution_count": 2,
   "metadata": {
    "ExecuteTime": {
     "end_time": "2018-12-02T08:13:16.896625Z",
     "start_time": "2018-12-02T08:13:16.767608Z"
    }
   },
   "outputs": [
    {
     "name": "stdout",
     "output_type": "stream",
     "text": [
      "(3000, 7)\n",
      "(2000, 7)\n"
     ]
    }
   ],
   "source": [
    "name = '../dataset/USA_Housing.csv'\n",
    "dataset = pd.read_csv(name)\n",
    "\n",
    "train = dataset.iloc[:3000,:]\n",
    "test = dataset.iloc[3000:,:]\n",
    "\n",
    "print(train.shape)\n",
    "print(test.shape)"
   ]
  },
  {
   "cell_type": "markdown",
   "metadata": {},
   "source": [
    "查看有无缺失值："
   ]
  },
  {
   "cell_type": "code",
   "execution_count": 3,
   "metadata": {
    "ExecuteTime": {
     "end_time": "2018-12-02T08:13:24.526890Z",
     "start_time": "2018-12-02T08:13:24.518922Z"
    }
   },
   "outputs": [
    {
     "name": "stdout",
     "output_type": "stream",
     "text": [
      "[False]\n",
      "[False]\n"
     ]
    }
   ],
   "source": [
    "print(np.unique(train.isnull().any()))\n",
    "print(np.unique(test.isnull().any()))"
   ]
  },
  {
   "cell_type": "code",
   "execution_count": 4,
   "metadata": {
    "ExecuteTime": {
     "end_time": "2018-12-02T08:13:27.213141Z",
     "start_time": "2018-12-02T08:13:27.201101Z"
    }
   },
   "outputs": [
    {
     "data": {
      "text/plain": [
       "Index(['Avg. Area Income', 'Avg. Area House Age', 'Avg. Area Number of Rooms',\n",
       "       'Avg. Area Number of Bedrooms', 'Area Population', 'Price', 'Address'],\n",
       "      dtype='object')"
      ]
     },
     "execution_count": 4,
     "metadata": {},
     "output_type": "execute_result"
    }
   ],
   "source": [
    "dataset.columns  # 查看所有特征名称"
   ]
  },
  {
   "cell_type": "markdown",
   "metadata": {},
   "source": [
    "我们不考虑 `'Address'` 特征。通过特征 `'Avg. Area Income', 'Avg. Area House Age', 'Avg. Area Number of Rooms', 'Avg. Area Number of Bedrooms', 'Area Population'` 来预测 `'Price'`。"
   ]
  },
  {
   "cell_type": "code",
   "execution_count": 5,
   "metadata": {
    "ExecuteTime": {
     "end_time": "2018-12-02T08:13:33.713837Z",
     "start_time": "2018-12-02T08:13:33.702851Z"
    }
   },
   "outputs": [],
   "source": [
    "features_column = [\n",
    "    name for name in dataset.columns if name not in ['Price', 'Address']\n",
    "]\n",
    "label_column = ['Price']\n",
    "\n",
    "x_train = train[features_column]\n",
    "y_train = train[label_column]\n",
    "x_test = test[features_column]\n",
    "y_test = test[label_column]"
   ]
  },
  {
   "cell_type": "markdown",
   "metadata": {},
   "source": [
    "为了更好的理解线性回归的原理，我们先动手自己实现：\n",
    "\n",
    "## MXNet 训练模型\n",
    "\n",
    "线性回归模型就是单层神经网络，在神经网络的训练中，需要将数据进行标准化处理，使得数据的尺度统一。"
   ]
  },
  {
   "cell_type": "code",
   "execution_count": 7,
   "metadata": {
    "ExecuteTime": {
     "end_time": "2018-12-02T08:14:38.277909Z",
     "start_time": "2018-12-02T08:14:38.274907Z"
    }
   },
   "outputs": [],
   "source": [
    "from sklearn.preprocessing import scale\n",
    "\n",
    "from mxnet import nd, autograd\n",
    "from mxnet.gluon import nn"
   ]
  },
  {
   "cell_type": "markdown",
   "metadata": {},
   "source": [
    "标准化处理："
   ]
  },
  {
   "cell_type": "code",
   "execution_count": 8,
   "metadata": {
    "ExecuteTime": {
     "end_time": "2018-12-02T08:15:39.280288Z",
     "start_time": "2018-12-02T08:15:39.265317Z"
    }
   },
   "outputs": [],
   "source": [
    "x_train = scale(x_train)\n",
    "x_test = scale(x_test)"
   ]
  },
  {
   "cell_type": "markdown",
   "metadata": {},
   "source": [
    "为了更红的管理数据集我们先定义一个针对数据集处理的统一 API：`Loader`。为了和不同的深度学习框架进行接洽，`Loader` 被限制为输出 Numpy 数组。"
   ]
  },
  {
   "cell_type": "code",
   "execution_count": 9,
   "metadata": {
    "ExecuteTime": {
     "end_time": "2018-12-02T08:24:59.208263Z",
     "start_time": "2018-12-02T08:24:59.201295Z"
    }
   },
   "outputs": [],
   "source": [
    "class Loader(dict):\n",
    "    \"\"\"\n",
    "    方法\n",
    "    ========\n",
    "    L 为该类的实例\n",
    "    len(L)::返回 batch 的批数\n",
    "    iter(L)::即为数据迭代器\n",
    "\n",
    "    Return\n",
    "    ========\n",
    "    可迭代对象（numpy 对象）\n",
    "    \"\"\"\n",
    "\n",
    "    def __init__(self, batch_size, X, Y=None, shuffle=True, name=None):\n",
    "        '''\n",
    "        X, Y 均为类 numpy, 可以是 HDF5\n",
    "        '''\n",
    "        if name is not None:\n",
    "            self.name = name\n",
    "        self.X = np.asanyarray(X[:])\n",
    "        if Y is None:\n",
    "            # print('不存在标签！')\n",
    "            self.Y = None\n",
    "        else:\n",
    "            self.Y = np.asanyarray(Y[:])\n",
    "        self.batch_size = batch_size\n",
    "        self.shuffle = shuffle\n",
    "        self.nrows = self.X.shape[0]\n",
    "\n",
    "    def __iter__(self):\n",
    "        idx = np.arange(self.nrows)\n",
    "\n",
    "        if self.shuffle:\n",
    "            np.random.shuffle(idx)\n",
    "\n",
    "        for k in range(0, self.nrows, self.batch_size):\n",
    "            K = idx[k:min(k + self.batch_size, self.nrows)]\n",
    "            if self.Y is None:\n",
    "                yield np.take(self.X, K, 0)\n",
    "            else:\n",
    "                yield np.take(self.X, K, 0), np.take(self.Y, K, 0)"
   ]
  },
  {
   "cell_type": "code",
   "execution_count": 11,
   "metadata": {
    "ExecuteTime": {
     "end_time": "2018-12-02T08:25:52.713737Z",
     "start_time": "2018-12-02T08:25:52.705777Z"
    }
   },
   "outputs": [],
   "source": [
    "batch_size = 64\n",
    "trainset = Loader(batch_size, scale(x_train), y_train)\n",
    "testset = Loader(batch_size, scale(x_test), y_test)"
   ]
  },
  {
   "cell_type": "code",
   "execution_count": null,
   "metadata": {
    "ExecuteTime": {
     "end_time": "2018-12-02T06:06:33.922309Z",
     "start_time": "2018-12-02T06:06:33.906261Z"
    }
   },
   "outputs": [],
   "source": [
    "def linreg(X, w, b):\n",
    "    return nd.dot(X, w) + b\n",
    "\n",
    "\n",
    "def squared_loss(y_hat, y):\n",
    "    return (y_hat - y.reshape(y_hat.shape)) ** 2 / 2\n",
    "\n",
    "\n",
    "def sgd(params, lr, batch_size):\n",
    "    for param in params:\n",
    "        param[:] -= lr * param.grad / batch_size"
   ]
  },
  {
   "cell_type": "code",
   "execution_count": null,
   "metadata": {
    "ExecuteTime": {
     "end_time": "2018-12-02T06:07:57.452147Z",
     "start_time": "2018-12-02T06:07:56.702178Z"
    }
   },
   "outputs": [],
   "source": [
    "n_features = x_train.shape[1]\n",
    "w = nd.random_normal(shape=(n_features, 1))\n",
    "b = nd.zeros([1])\n",
    "params = [w, b]\n",
    "\n",
    "for param in params:\n",
    "    param.attach_grad()\n",
    "\n",
    "lr = .03\n",
    "epochs = 10\n",
    "net = linreg\n",
    "loss = squared_loss\n",
    "\n",
    "def evaluate(net, w, b, testset):\n",
    "    test_l = 0\n",
    "    for x, y in testset:\n",
    "        out = net(x, w, b)\n",
    "        L = loss(out, y)\n",
    "        test_l += L.mean().asscalar()\n",
    "    return test_l\n",
    "\n",
    "for epoch in range(epochs):\n",
    "    train_l = 0\n",
    "    for x, y in trainset:\n",
    "        with autograd.record():\n",
    "            out = net(x, w, b)\n",
    "            L = loss(out, y)\n",
    "        L.backward()\n",
    "        sgd([w, b], lr, batch_size)\n",
    "        train_l += L.mean().asscalar()\n",
    "    test_l = evaluate(net, w, b, testset)\n",
    "    print(f'Epoch {epoch}, train loss {train_l},\\ttest loss {test_l}')"
   ]
  },
  {
   "cell_type": "code",
   "execution_count": null,
   "metadata": {},
   "outputs": [],
   "source": []
  }
 ],
 "metadata": {
  "kernelspec": {
   "display_name": "Python [conda root]",
   "language": "python",
   "name": "conda-root-py"
  },
  "language_info": {
   "codemirror_mode": {
    "name": "ipython",
    "version": 3
   },
   "file_extension": ".py",
   "mimetype": "text/x-python",
   "name": "python",
   "nbconvert_exporter": "python",
   "pygments_lexer": "ipython3",
   "version": "3.6.5"
  },
  "latex_envs": {
   "LaTeX_envs_menu_present": true,
   "autoclose": false,
   "autocomplete": true,
   "bibliofile": "biblio.bib",
   "cite_by": "apalike",
   "current_citInitial": 1,
   "eqLabelWithNumbers": true,
   "eqNumInitial": 1,
   "hotkeys": {
    "equation": "Ctrl-E",
    "itemize": "Ctrl-I"
   },
   "labels_anchors": false,
   "latex_user_defs": false,
   "report_style_numbering": false,
   "user_envs_cfg": false
  },
  "nbTranslate": {
   "displayLangs": [
    "*"
   ],
   "hotkey": "alt-t",
   "langInMainMenu": true,
   "sourceLang": "en",
   "targetLang": "fr",
   "useGoogleTranslate": true
  },
  "toc": {
   "base_numbering": 1,
   "nav_menu": {},
   "number_sections": true,
   "sideBar": true,
   "skip_h1_title": false,
   "title_cell": "Table of Contents",
   "title_sidebar": "Contents",
   "toc_cell": false,
   "toc_position": {},
   "toc_section_display": true,
   "toc_window_display": false
  },
  "varInspector": {
   "cols": {
    "lenName": 16,
    "lenType": 16,
    "lenVar": 40
   },
   "kernels_config": {
    "python": {
     "delete_cmd_postfix": "",
     "delete_cmd_prefix": "del ",
     "library": "var_list.py",
     "varRefreshCmd": "print(var_dic_list())"
    },
    "r": {
     "delete_cmd_postfix": ") ",
     "delete_cmd_prefix": "rm(",
     "library": "var_list.r",
     "varRefreshCmd": "cat(var_dic_list()) "
    }
   },
   "types_to_exclude": [
    "module",
    "function",
    "builtin_function_or_method",
    "instance",
    "_Feature"
   ],
   "window_display": false
  }
 },
 "nbformat": 4,
 "nbformat_minor": 2
}

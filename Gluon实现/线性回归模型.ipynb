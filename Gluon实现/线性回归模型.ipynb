{
 "cells": [
  {
   "cell_type": "markdown",
   "metadata": {},
   "source": [
    "本文主要探索如何使用深度学习框架 MXNet 或 TensorFlow 实现**线性回归**模型？并且以 Kaggle 上数据集 [USA_Housing](https://www.kaggle.com/vedavyasv/usa-housing) 做线性回归任务来预测房价。\n",
    "\n",
    "回归任务，scikit-learn 亦可以实现，具体操作可以查看 [线性回归模型的原理与 scikit-learn 实现](https://www.jianshu.com/p/a65c3965e290)。\n",
    "\n",
    "## 载入数据"
   ]
  },
  {
   "cell_type": "code",
   "execution_count": 28,
   "metadata": {
    "ExecuteTime": {
     "end_time": "2018-12-03T12:52:10.362802Z",
     "start_time": "2018-12-03T12:52:10.332845Z"
    }
   },
   "outputs": [
    {
     "name": "stdout",
     "output_type": "stream",
     "text": [
      "(3000, 7)\n",
      "(2000, 7)\n"
     ]
    }
   ],
   "source": [
    "import pandas as pd\n",
    "import numpy as np\n",
    "\n",
    "name = '../dataset/USA_Housing.csv'\n",
    "dataset = pd.read_csv(name)\n",
    "\n",
    "train = dataset.iloc[:3000,:]\n",
    "test = dataset.iloc[3000:,:]\n",
    "\n",
    "print(train.shape)\n",
    "print(test.shape)"
   ]
  },
  {
   "cell_type": "markdown",
   "metadata": {},
   "source": [
    "查看有无缺失值："
   ]
  },
  {
   "cell_type": "code",
   "execution_count": 8,
   "metadata": {
    "ExecuteTime": {
     "end_time": "2018-12-03T12:43:45.680219Z",
     "start_time": "2018-12-03T12:43:45.666195Z"
    }
   },
   "outputs": [
    {
     "name": "stdout",
     "output_type": "stream",
     "text": [
      "[False]\n",
      "[False]\n"
     ]
    }
   ],
   "source": [
    "print(np.unique(train.isnull().any()))\n",
    "print(np.unique(test.isnull().any()))"
   ]
  },
  {
   "cell_type": "code",
   "execution_count": 9,
   "metadata": {
    "ExecuteTime": {
     "end_time": "2018-12-03T12:43:45.843185Z",
     "start_time": "2018-12-03T12:43:45.831186Z"
    }
   },
   "outputs": [
    {
     "data": {
      "text/plain": [
       "Index(['Avg. Area Income', 'Avg. Area House Age', 'Avg. Area Number of Rooms',\n",
       "       'Avg. Area Number of Bedrooms', 'Area Population', 'Price', 'Address'],\n",
       "      dtype='object')"
      ]
     },
     "execution_count": 9,
     "metadata": {},
     "output_type": "execute_result"
    }
   ],
   "source": [
    "dataset.columns  # 查看所有特征名称"
   ]
  },
  {
   "cell_type": "markdown",
   "metadata": {},
   "source": [
    "我们不考虑 `'Address'` 特征。通过特征 `'Avg. Area Income', 'Avg. Area House Age', 'Avg. Area Number of Rooms', 'Avg. Area Number of Bedrooms', 'Area Population'` 来预测 `'Price'`。"
   ]
  },
  {
   "cell_type": "code",
   "execution_count": 10,
   "metadata": {
    "ExecuteTime": {
     "end_time": "2018-12-03T12:43:51.247182Z",
     "start_time": "2018-12-03T12:43:51.236183Z"
    }
   },
   "outputs": [],
   "source": [
    "features_column = [\n",
    "    name for name in dataset.columns if name not in ['Price', 'Address']\n",
    "]\n",
    "label_column = ['Price']\n",
    "\n",
    "x_train = train[features_column]\n",
    "y_train = train[label_column]\n",
    "x_test = test[features_column]\n",
    "y_test = test[label_column]"
   ]
  },
  {
   "cell_type": "markdown",
   "metadata": {},
   "source": [
    "为了更好的理解线性回归的原理，我们先动手自己实现：\n",
    "\n",
    "## 数据标准化\n",
    "\n",
    "线性回归模型就是单层神经网络，在神经网络的训练中，需要将数据进行标准化处理，使得数据的尺度统一。"
   ]
  },
  {
   "cell_type": "code",
   "execution_count": 11,
   "metadata": {
    "ExecuteTime": {
     "end_time": "2018-12-03T12:43:55.639345Z",
     "start_time": "2018-12-03T12:43:54.530222Z"
    }
   },
   "outputs": [],
   "source": [
    "from sklearn.preprocessing import scale"
   ]
  },
  {
   "cell_type": "markdown",
   "metadata": {},
   "source": [
    "标准化处理："
   ]
  },
  {
   "cell_type": "code",
   "execution_count": 12,
   "metadata": {
    "ExecuteTime": {
     "end_time": "2018-12-03T12:43:56.080779Z",
     "start_time": "2018-12-03T12:43:56.070812Z"
    }
   },
   "outputs": [],
   "source": [
    "x_train_s = scale(x_train)\n",
    "x_test_s = scale(x_test)"
   ]
  },
  {
   "cell_type": "markdown",
   "metadata": {},
   "source": [
    "为了更红的管理数据集我们先定义一个针对数据集处理的统一 API：`Loader`。为了和不同的深度学习框架进行接洽，`Loader` 被限制为输出 Numpy 数组。"
   ]
  },
  {
   "cell_type": "code",
   "execution_count": 13,
   "metadata": {
    "ExecuteTime": {
     "end_time": "2018-12-03T12:43:58.010383Z",
     "start_time": "2018-12-03T12:43:58.003384Z"
    }
   },
   "outputs": [],
   "source": [
    "class Loader(dict):\n",
    "    \"\"\"\n",
    "    方法\n",
    "    ========\n",
    "    L 为该类的实例\n",
    "    len(L)::返回样本数目\n",
    "    iter(L)::即为数据迭代器\n",
    "\n",
    "    Return\n",
    "    ========\n",
    "    可迭代对象（numpy 对象）\n",
    "    \"\"\"\n",
    "\n",
    "    def __init__(self, batch_size, X, Y=None, shuffle=True, name=None):\n",
    "        '''\n",
    "        X, Y 均为类 numpy, 可以是 HDF5\n",
    "        '''\n",
    "        if name is not None:\n",
    "            self.name = name\n",
    "        self.X = np.asanyarray(X[:])\n",
    "        if Y is None:\n",
    "            # print('不存在标签！')\n",
    "            self.Y = None\n",
    "        else:\n",
    "            self.Y = np.asanyarray(Y[:])\n",
    "        self.batch_size = batch_size\n",
    "        self.shuffle = shuffle\n",
    "        self.nrows = self.X.shape[0]\n",
    "\n",
    "    def __iter__(self):\n",
    "        idx = np.arange(self.nrows)\n",
    "\n",
    "        if self.shuffle:\n",
    "            np.random.shuffle(idx)\n",
    "\n",
    "        for k in range(0, self.nrows, self.batch_size):\n",
    "            K = idx[k:min(k + self.batch_size, self.nrows)]\n",
    "            if self.Y is None:\n",
    "                yield np.take(self.X, K, 0)\n",
    "            else:\n",
    "                yield np.take(self.X, K, 0), np.take(self.Y, K, 0)\n",
    "                \n",
    "    def __len__(self):\n",
    "        return self.nrows"
   ]
  },
  {
   "cell_type": "markdown",
   "metadata": {},
   "source": [
    "由于预测的值很大，为了加快训练速度，我们将其转换为："
   ]
  },
  {
   "cell_type": "code",
   "execution_count": 14,
   "metadata": {
    "ExecuteTime": {
     "end_time": "2018-12-03T12:44:53.870889Z",
     "start_time": "2018-12-03T12:44:53.866935Z"
    }
   },
   "outputs": [],
   "source": [
    "batch_size = 64\n",
    "trainset = Loader(batch_size, x_train_s, y_train)"
   ]
  },
  {
   "cell_type": "markdown",
   "metadata": {},
   "source": [
    "## MXNet 训练"
   ]
  },
  {
   "cell_type": "code",
   "execution_count": 15,
   "metadata": {
    "ExecuteTime": {
     "end_time": "2018-12-03T12:44:57.542919Z",
     "start_time": "2018-12-03T12:44:57.539881Z"
    }
   },
   "outputs": [],
   "source": [
    "from mxnet import nd, autograd\n",
    "from mxnet.gluon import nn"
   ]
  },
  {
   "cell_type": "code",
   "execution_count": 11,
   "metadata": {
    "ExecuteTime": {
     "end_time": "2018-12-02T13:36:18.326144Z",
     "start_time": "2018-12-02T13:36:18.322140Z"
    }
   },
   "outputs": [],
   "source": [
    "def linreg(X, w, b):\n",
    "    '''\n",
    "    线性回归模型\n",
    "    '''\n",
    "    return nd.dot(X, w) + b\n",
    "\n",
    "\n",
    "def squared_loss(y_hat, y):\n",
    "    '''\n",
    "    l_2 损失\n",
    "    '''\n",
    "    return (y_hat - y.reshape(y_hat.shape)) ** 2 / 2\n",
    "\n",
    "\n",
    "def sgd(params, lr, batch_size):\n",
    "    for param in params:\n",
    "        param[:] -= lr * param.grad / batch_size"
   ]
  },
  {
   "cell_type": "code",
   "execution_count": 12,
   "metadata": {
    "ExecuteTime": {
     "end_time": "2018-12-02T13:36:18.964139Z",
     "start_time": "2018-12-02T13:36:18.329143Z"
    },
    "scrolled": true
   },
   "outputs": [
    {
     "name": "stdout",
     "output_type": "stream",
     "text": [
      "Epoch 0, train loss 31618141962.24\n",
      "Epoch 1, train loss 5227899371.52\n",
      "Epoch 2, train loss 5213236106.581333\n",
      "Epoch 3, train loss 5218263345.834666\n",
      "Epoch 4, train loss 5239229207.893333\n",
      "Epoch 5, train loss 5258389263.701333\n",
      "Epoch 6, train loss 5229723735.381333\n",
      "Epoch 7, train loss 5193707612.842667\n",
      "Epoch 8, train loss 5248076775.424\n",
      "Epoch 9, train loss 5249794779.818666\n",
      "Wall time: 617 ms\n"
     ]
    }
   ],
   "source": [
    "%%time\n",
    "n_features = x_train.shape[1]\n",
    "\n",
    "# 参数初始化\n",
    "w = nd.random_normal(shape=(n_features, 1))\n",
    "b = nd.zeros([1])\n",
    "params = [w, b]\n",
    "\n",
    "for param in params:\n",
    "    param.attach_grad()\n",
    "\n",
    "# 超参数设定\n",
    "lr = .45\n",
    "epochs = 10\n",
    "net = linreg\n",
    "loss = squared_loss\n",
    "test_l = []\n",
    "for epoch in range(epochs):\n",
    "    train_l = 0\n",
    "    for x, y in trainset:\n",
    "        x = nd.array(x, dtype=np.float32)\n",
    "        y = nd.array(y, dtype=np.float32)\n",
    "        with autograd.record():\n",
    "            out = net(x, w, b)\n",
    "            L = loss(out, y)\n",
    "        L.backward()\n",
    "        sgd([w, b], lr, batch_size)\n",
    "        train_l += L.sum().asscalar()\n",
    "    test_l.append(loss(net(nd.array(x_test_s), w, b),\n",
    "                       nd.array(y_test)).mean().asscalar())\n",
    "    print(f'Epoch {epoch}, train loss {train_l/len(trainset)}')"
   ]
  },
  {
   "cell_type": "code",
   "execution_count": 13,
   "metadata": {
    "ExecuteTime": {
     "end_time": "2018-12-02T13:36:19.364141Z",
     "start_time": "2018-12-02T13:36:18.967171Z"
    }
   },
   "outputs": [
    {
     "data": {
      "image/png": "[encoded data removed]",
      "text/plain": [
       "<Figure size 432x288 with 1 Axes>"
      ]
     },
     "metadata": {},
     "output_type": "display_data"
    }
   ],
   "source": [
    "%matplotlib inline\n",
    "from matplotlib import pyplot as plt\n",
    "\n",
    "plt.plot(test_l)\n",
    "plt.show()"
   ]
  },
  {
   "cell_type": "code",
   "execution_count": 14,
   "metadata": {
    "ExecuteTime": {
     "end_time": "2018-12-02T13:36:19.403143Z",
     "start_time": "2018-12-02T13:36:19.367141Z"
    },
    "scrolled": true
   },
   "outputs": [
    {
     "data": {
      "text/plain": [
       "0.9160266711438344"
      ]
     },
     "execution_count": 14,
     "metadata": {},
     "output_type": "execute_result"
    }
   ],
   "source": [
    "from sklearn.metrics import r2_score\n",
    "out = net(nd.array(x_test_s), w, b).asnumpy()\n",
    "\n",
    "r2_score(y_test, out)"
   ]
  },
  {
   "cell_type": "markdown",
   "metadata": {
    "ExecuteTime": {
     "end_time": "2018-12-02T10:25:56.161622Z",
     "start_time": "2018-12-02T10:25:56.158663Z"
    }
   },
   "source": [
    "## TensorFlow 训练"
   ]
  },
  {
   "cell_type": "code",
   "execution_count": 15,
   "metadata": {
    "ExecuteTime": {
     "end_time": "2018-12-02T13:36:21.540139Z",
     "start_time": "2018-12-02T13:36:19.406141Z"
    }
   },
   "outputs": [],
   "source": [
    "import tensorflow as tf"
   ]
  },
  {
   "cell_type": "code",
   "execution_count": 16,
   "metadata": {
    "ExecuteTime": {
     "end_time": "2018-12-02T13:36:21.545144Z",
     "start_time": "2018-12-02T13:36:21.542140Z"
    }
   },
   "outputs": [],
   "source": [
    "def linreg(X, w, b):\n",
    "    '''\n",
    "    线性回归模型\n",
    "    '''\n",
    "    return tf.matmul(X, w) + b"
   ]
  },
  {
   "cell_type": "code",
   "execution_count": 17,
   "metadata": {
    "ExecuteTime": {
     "end_time": "2018-12-02T13:36:25.735745Z",
     "start_time": "2018-12-02T13:36:21.549152Z"
    },
    "scrolled": true
   },
   "outputs": [
    {
     "name": "stdout",
     "output_type": "stream",
     "text": [
      "Epoch 0, train loss 825207346429.952\n",
      "Epoch 1, train loss 825207220600.832\n",
      "Epoch 2, train loss 825207307283.1146\n",
      "Epoch 3, train loss 825207276524.8854\n",
      "Epoch 4, train loss 825207298894.5067\n",
      "Epoch 5, train loss 825207349226.1547\n",
      "Epoch 6, train loss 825207335245.1414\n",
      "Epoch 7, train loss 825207173065.3867\n",
      "Epoch 8, train loss 825207325458.432\n",
      "Epoch 9, train loss 825207249960.96\n",
      "Wall time: 4.17 s\n"
     ]
    }
   ],
   "source": [
    "%%time\n",
    "n_features = x_train.shape[1]\n",
    "lr = .45\n",
    "\n",
    "# 参数初始化\n",
    "w = tf.Variable(tf.random_normal(shape=(n_features, 1)))\n",
    "b = tf.Variable(tf.zeros([1]))\n",
    "\n",
    "x = tf.placeholder(tf.float32, [None, n_features])\n",
    "y = tf.placeholder(tf.float32, [None, 1])\n",
    "\n",
    "loss = (y - linreg(x, w, b))**2 / 2\n",
    "train_op = tf.train.GradientDescentOptimizer(lr).minimize(loss)\n",
    "test_out = linreg(tf.constant(x_test_s, tf.float32), w, b)\n",
    "init = tf.global_variables_initializer()\n",
    "\n",
    "epochs = 10\n",
    "with tf.Session() as sess:\n",
    "    for epoch in range(epochs):\n",
    "        train_l = 0\n",
    "        for data, labels in trainset:\n",
    "            data = data.astype(np.float32)\n",
    "            labels = labels.astype(np.float32)\n",
    "            sess.run(init)\n",
    "            train_, _ = sess.run(\n",
    "                [loss, train_op], feed_dict={\n",
    "                    x: data,\n",
    "                    y: labels\n",
    "                })\n",
    "            train_l += train_.sum()\n",
    "        print(f'Epoch {epoch}, train loss {train_l/ len(trainset)}')\n",
    "    out = sess.run(test_out)"
   ]
  },
  {
   "cell_type": "markdown",
   "metadata": {},
   "source": [
    "TensorFlow 与 MXNet 相比，慢了许多。"
   ]
  },
  {
   "cell_type": "code",
   "execution_count": 18,
   "metadata": {
    "ExecuteTime": {
     "end_time": "2018-12-02T13:36:25.750744Z",
     "start_time": "2018-12-02T13:36:25.739755Z"
    }
   },
   "outputs": [
    {
     "data": {
      "text/plain": [
       "-9834.739544115224"
      ]
     },
     "execution_count": 18,
     "metadata": {},
     "output_type": "execute_result"
    }
   ],
   "source": [
    "r2_score(y_test, out)"
   ]
  }
 ],
 "metadata": {
  "kernelspec": {
   "display_name": "Python [conda root]",
   "language": "python",
   "name": "conda-root-py"
  },
  "language_info": {
   "codemirror_mode": {
    "name": "ipython",
    "version": 3
   },
   "file_extension": ".py",
   "mimetype": "text/x-python",
   "name": "python",
   "nbconvert_exporter": "python",
   "pygments_lexer": "ipython3",
   "version": "3.6.5"
  },
  "latex_envs": {
   "LaTeX_envs_menu_present": true,
   "autoclose": false,
   "autocomplete": true,
   "bibliofile": "biblio.bib",
   "cite_by": "apalike",
   "current_citInitial": 1,
   "eqLabelWithNumbers": true,
   "eqNumInitial": 1,
   "hotkeys": {
    "equation": "Ctrl-E",
    "itemize": "Ctrl-I"
   },
   "labels_anchors": false,
   "latex_user_defs": false,
   "report_style_numbering": false,
   "user_envs_cfg": false
  },
  "nbTranslate": {
   "displayLangs": [
    "*"
   ],
   "hotkey": "alt-t",
   "langInMainMenu": true,
   "sourceLang": "en",
   "targetLang": "fr",
   "useGoogleTranslate": true
  },
  "toc": {
   "base_numbering": 1,
   "nav_menu": {},
   "number_sections": true,
   "sideBar": true,
   "skip_h1_title": false,
   "title_cell": "Table of Contents",
   "title_sidebar": "Contents",
   "toc_cell": false,
   "toc_position": {},
   "toc_section_display": true,
   "toc_window_display": false
  },
  "varInspector": {
   "cols": {
    "lenName": 16,
    "lenType": 16,
    "lenVar": 40
   },
   "kernels_config": {
    "python": {
     "delete_cmd_postfix": "",
     "delete_cmd_prefix": "del ",
     "library": "var_list.py",
     "varRefreshCmd": "print(var_dic_list())"
    },
    "r": {
     "delete_cmd_postfix": ") ",
     "delete_cmd_prefix": "rm(",
     "library": "var_list.r",
     "varRefreshCmd": "cat(var_dic_list()) "
    }
   },
   "types_to_exclude": [
    "module",
    "function",
    "builtin_function_or_method",
    "instance",
    "_Feature"
   ],
   "window_display": false
  }
 },
 "nbformat": 4,
 "nbformat_minor": 2
}

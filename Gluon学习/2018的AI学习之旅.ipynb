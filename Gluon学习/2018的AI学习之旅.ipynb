{
 "cells": [
  {
   "cell_type": "markdown",
   "metadata": {},
   "source": [
    "## 学习资料\n",
    "\n",
    "- [斯坦福CS231n—深度学习与计算机视觉(资料汇总)](https://www.52ml.net/20815.html)\n",
    "- [TensorFlow深度学习，一篇文章就够了](http://blog.jobbole.com/105602/)\n",
    "- [【干货合集】深度学习入门与实战](https://zhuanlan.zhihu.com/p/27196647)\n",
    "- [新手向的TensorFlow学习之路2（Learning paths 2）](http://hp.stuhome.net/index.php/2017/03/28/tensorflow-learning-paths-2/)\n",
    "- [AI算法精研学习资料-附视频及讲师PPT](https://www.jianshu.com/p/39f95d5c18c7)\n",
    "1. Stanford 的 CS 20SI 课程，专门针对 TensorFlow 的课程，[Tensorflow for Deep Learning Research](https://web.stanford.edu/class/cs20si/)\n",
    "2. 两本书籍：[Tensorflow Machine Learning Cookbook](https://github.com/nfmcclure/tensorflow_cookbook) + [TensorFlow for Machine Intelligence](https://www.safaribooksonline.com/library/view/tensorflow-for-machine/9781939902351/)\n",
    "3. Udacity公开课:[深度学习](http://cn.udacity.com/course/deep-learning--ud730)\n",
    "### Welcome to Jupyter!\n",
    "- [Jupyter Try](https://jupyter.org/try)\n",
    "- [Jupyter Hub 教程](https://binderhub.readthedocs.io/en/latest/)\n",
    "This repo contains an introduction to [Jupyter](https://jupyter.org) and [IPython](https://ipython.org).\n",
    "\n",
    "You can also get this tutorial and run it on your laptop:\n",
    "\n",
    "    git clone https://github.com/ipython/ipython-in-depth\n",
    "\n",
    "Install IPython and Jupyter:\n",
    "\n",
    "with [conda](https://www.anaconda.com/download):\n",
    "\n",
    "    conda install ipython jupyter\n",
    "\n",
    "with pip:\n",
    "\n",
    "\n",
    "```sh\n",
    "# first, always upgrade pip!\n",
    "pip install --upgrade pip\n",
    "pip install --upgrade ipython jupyter\n",
    "```\n",
    "Start the notebook in the tutorial directory:\n",
    "```sh\n",
    "cd ipython-in-depth\n",
    "jupyter notebook\n",
    "```\n",
    "### Python 优秀教程\n",
    "- [Learn Python](https://learnpython.org/)\n",
    "- [Learn Python the Hard Way](https://learnpythonthehardway.org/book/)\n",
    "- [Practical Machine Learning Tutorial with Python Introduction](https://pythonprogramming.net/machine-learning-tutorial-python-introduction/) 涵盖了与机器学习相关的概念、算法、理论、应用程序等.\n",
    "- [Introduction to Neural Networks](https://pythonprogramming.net/neural-networks-machine-learning-tutorial/)\n",
    "\n",
    "### 深度学习（Deep Learning，DL）\n",
    "虽然 Tensorflow 已经封装好了大部分 DL 的细节，但是如果不了解 DL 的相关核心概念，就会很难着手分析问题。首先强烈推荐教程[Neural Networks and Deep Learning](http://neuralnetworksanddeeplearning.com/)，通读一遍，然后还有深度学习圣经[Deep Learning](http://www.deeplearningbook.org/)，可以快速浏览或者只看自己不太明白的地方，还有[Welcome to the Deep Learning Tutorial! ](http://deeplearning.stanford.edu/tutorial/)分块介绍的，还有几篇blog，[Conv Nets: A Modular Perspective](https://colah.github.io/posts/2014-07-Conv-Nets-Modular/)讲的是卷积神经网络。图像识别用的比较多的就是卷积神经网络，这篇可以看看。\n",
    " [Deep Learning Tutorials](http://deeplearning.net/tutorial/)也是不错的。\n",
    " \n",
    "### TensorFlow 教程\n",
    "- [官方教程](https://www.tensorflow.org/tutorials/)\n",
    "- [官方文档中文版](http://www.tensorfly.cn/)\n",
    "- [TensorFlow 文档中文翻译版](http://wiki.jikexueyuan.com/project/tensorflow-zh/)\n",
    "- [tensorflow cookbook](https://github.com/nfmcclure/tensorflow_cookbook)\n",
    "- [斯坦福教程](https://web.stanford.edu/class/cs20si/syllabus.html)\n",
    "- [Tensorflow的教程](http://learningtensorflow.com/)\n",
    "- [莫烦 TensorFlow](https://morvanzhou.github.io/tutorials/machine-learning/tensorflow/)\n",
    "- [Introduction to Deep Learning with TensorFlow](https://pythonprogramming.net/tensorflow-introduction-machine-learning-tutorial/)\n",
    "- [Deep Learning with TensorFlow - Creating the Neural Network Model](https://pythonprogramming.net/tensorflow-deep-neural-network-machine-learning-tutorial/)\n",
    "\n",
    "- [在Android端使用 TensorFlow](http://hp.stuhome.net/index.php/2017/02/17/tensorflow-on-android/) \n",
    "\n",
    "\n",
    "### 优质 blog\n",
    "- [Hackery, Math](http://acko.net/)\n",
    "- [colah's blog](https://colah.github.io/)\n",
    "- [ Café, bonne nuit](https://ireneli.eu/)\n",
    "- [Mike Bostock](https://bost.ocks.org/mike/)\n",
    "\n",
    "### 优秀课程资源\n",
    "[使用TensorFlow |创建深度学习应用程序](https://www.kadenze.com/courses/creative-applications-of-deep-learning-with-tensorflow/info)以应用为导向的课程，通过鼓励探索创造性思维和深层神经网络的创造性应用，教你Tensorflow的基础知识以及最先进的算法，强烈鼓励尝试这门课程。这是唯一全面的在线课程，将教会你如何使用 Tensorflow 和开发您的创造潜力，了解如何应用这些技术创建神经网络。\n",
    "\n",
    "建议你看一下[Deep Learning with TensorFlow](https://cognitiveclass.ai/courses/deep-learning-tensorflow/)课程。同样查看目录中的其他数据科学和机器学习课程。课程是完全免费的，并且许多都有完成证书和IBM支持的开放徽章。\n",
    "\n",
    "### [如何开始学习使用TensorFlow？](https://yq.aliyun.com/articles/71257?utm_campaign=wenzhang&utm_medium=article&utm_source=QQ-qun&utm_content=m_12436)\n",
    "\n",
    "## 优秀的 GitHub\n",
    "- [ahangchen/GDLnotes](https://github.com/ahangchen/GDLnotes)\n",
    "- [ahangchen/GoogleML](https://github.com/ahangchen/GoogleML)\n",
    "- [wagamamaz](https://github.com/wagamamaz)"
   ]
  },
  {
   "cell_type": "markdown",
   "metadata": {},
   "source": [
    "# TensorFlow 学习（3月 - 4 月）[caicloud/tensorflow-tutorial](https://github.com/caicloud/tensorflow-tutorial)\n",
    "\n",
    "[TensorFlow 白皮书](https://www.jianshu.com/p/65dc64e4c81f)"
   ]
  },
  {
   "cell_type": "code",
   "execution_count": 8,
   "metadata": {
    "ExecuteTime": {
     "end_time": "2018-03-17T14:24:40.312798Z",
     "start_time": "2018-03-17T14:24:37.356795Z"
    },
    "scrolled": true
   },
   "outputs": [
    {
     "name": "stdout",
     "output_type": "stream",
     "text": [
      "Name: tensorflow-gpu\n",
      "Version: 1.6.0\n",
      "Summary: TensorFlow helps the tensors flow\n",
      "Home-page: https://www.tensorflow.org/\n",
      "Author: Google Inc.\n",
      "Author-email: opensource@google.com\n",
      "License: Apache 2.0\n",
      "Location: c:\\anaconda3\\lib\\site-packages\n",
      "Requires: gast, protobuf, six, absl-py, tensorboard, termcolor, wheel, astor, numpy, grpcio\n"
     ]
    }
   ],
   "source": [
    "!pip show tensorflow-gpu"
   ]
  },
  {
   "cell_type": "markdown",
   "metadata": {},
   "source": [
    "## 常用函数\n",
    "\n",
    "函数|功能\n",
    ":-|:-\n",
    "`tf.get_default_graph()`|获取当前默认计算图\n",
    "`tf.Graph()`|生成新的计算图\n",
    "`tf.Graph().device()`|指定运行计算的设备\n",
    "\n",
    "更多参考：[TensorFlow 常用的函数](http://www.cnblogs.com/q735613050/p/7777802.html)"
   ]
  },
  {
   "cell_type": "markdown",
   "metadata": {},
   "source": [
    "下面举几个例子："
   ]
  },
  {
   "cell_type": "code",
   "execution_count": null,
   "metadata": {
    "ExecuteTime": {
     "end_time": "2018-03-17T14:24:40.322775Z",
     "start_time": "2018-03-17T14:24:40.315778Z"
    }
   },
   "outputs": [],
   "source": [
    "import tensorflow as tf"
   ]
  },
  {
   "cell_type": "markdown",
   "metadata": {},
   "source": [
    "为了建模方便，TensorFlow 将 `tf.constant()` 转换为一种永远输出固定值的运算。"
   ]
  },
  {
   "cell_type": "code",
   "execution_count": 10,
   "metadata": {
    "ExecuteTime": {
     "end_time": "2018-03-17T14:24:40.405775Z",
     "start_time": "2018-03-17T14:24:40.325780Z"
    }
   },
   "outputs": [],
   "source": [
    "a = tf.constant([1., 2.], name='a')\n",
    "b = tf.constant([2., 3.], name='b')\n",
    "result = a + b"
   ]
  },
  {
   "cell_type": "markdown",
   "metadata": {},
   "source": [
    "`a.graph` 查看张量所属的计算图："
   ]
  },
  {
   "cell_type": "code",
   "execution_count": 11,
   "metadata": {
    "ExecuteTime": {
     "end_time": "2018-03-17T14:24:40.433776Z",
     "start_time": "2018-03-17T14:24:40.407775Z"
    }
   },
   "outputs": [
    {
     "data": {
      "text/plain": [
       "True"
      ]
     },
     "execution_count": 11,
     "metadata": {},
     "output_type": "execute_result"
    }
   ],
   "source": [
    "a.graph is tf.get_default_graph()"
   ]
  },
  {
   "cell_type": "code",
   "execution_count": 12,
   "metadata": {
    "ExecuteTime": {
     "end_time": "2018-03-17T14:24:40.468782Z",
     "start_time": "2018-03-17T14:24:40.440774Z"
    },
    "scrolled": true
   },
   "outputs": [
    {
     "name": "stdout",
     "output_type": "stream",
     "text": [
      "<tf.Variable 'v:0' shape=(2,) dtype=float32_ref>\n"
     ]
    }
   ],
   "source": [
    "g1 = tf.Graph()\n",
    "with g1.as_default():\n",
    "    v = tf.Variable(tf.zeros([2,]), name='v')\n",
    "    print(v)"
   ]
  },
  {
   "cell_type": "code",
   "execution_count": 13,
   "metadata": {
    "ExecuteTime": {
     "end_time": "2018-03-17T14:24:40.913147Z",
     "start_time": "2018-03-17T14:24:40.472778Z"
    },
    "scrolled": true
   },
   "outputs": [
    {
     "name": "stdout",
     "output_type": "stream",
     "text": [
      "[0. 0.]\n"
     ]
    }
   ],
   "source": [
    "with tf.Session(graph=g1) as sess:\n",
    "    tf.global_variables_initializer().run()\n",
    "    print(sess.run(v))"
   ]
  },
  {
   "cell_type": "code",
   "execution_count": 14,
   "metadata": {
    "ExecuteTime": {
     "end_time": "2018-03-17T14:24:40.927176Z",
     "start_time": "2018-03-17T14:24:40.915159Z"
    }
   },
   "outputs": [
    {
     "name": "stdout",
     "output_type": "stream",
     "text": [
      "<tf.Variable 'v:0' shape=(1,) dtype=float32_ref>\n"
     ]
    }
   ],
   "source": [
    "g2 = tf.Graph()\n",
    "with g2.as_default():\n",
    "    v1 = tf.get_variable('v', [1], initializer= tf.zeros_initializer())\n",
    "    print(v1)"
   ]
  },
  {
   "cell_type": "code",
   "execution_count": 15,
   "metadata": {
    "ExecuteTime": {
     "end_time": "2018-03-17T14:24:41.008145Z",
     "start_time": "2018-03-17T14:24:40.931148Z"
    },
    "scrolled": true
   },
   "outputs": [
    {
     "name": "stdout",
     "output_type": "stream",
     "text": [
      "[0.]\n"
     ]
    }
   ],
   "source": [
    "with tf.Session(graph=g2) as sess:\n",
    "    tf.global_variables_initializer().run()\n",
    "    with tf.variable_scope('', reuse= True):\n",
    "        print(sess.run(tf.get_variable('v')))"
   ]
  },
  {
   "cell_type": "code",
   "execution_count": 16,
   "metadata": {
    "ExecuteTime": {
     "end_time": "2018-03-17T14:24:41.085190Z",
     "start_time": "2018-03-17T14:24:41.013152Z"
    }
   },
   "outputs": [
    {
     "name": "stdout",
     "output_type": "stream",
     "text": [
      "[3. 5.]\n"
     ]
    }
   ],
   "source": [
    "g = tf.Graph()\n",
    "a = tf.constant([1., 2.], name='a')\n",
    "b = tf.constant([2., 3.], name='b')\n",
    "with g.device('/gpu:0'):\n",
    "    result = a + b\n",
    "    \n",
    "with tf.Session() as sess:\n",
    "    print(sess.run(result))"
   ]
  },
  {
   "cell_type": "markdown",
   "metadata": {},
   "source": [
    "关于张量、计算图、会话（`tf.Session()`）的详细信息见：[TensorFlow 基础](http://www.cnblogs.com/q735613050/p/7632792.html)\n",
    "\n",
    "## [mybinder](https://mybinder.org/)将 GitHub 上的 Jupyter NoteBook 推送至云端\n",
    "\n",
    "[公开笔记](https://mybinder.org/v2/gh/q735613050/XinetStudio/Opening)\n",
    "\n",
    "[个人笔记](https://mybinder.org/v2/gh/q735613050/XinetStudio/master)"
   ]
  },
  {
   "cell_type": "markdown",
   "metadata": {},
   "source": [
    "$\\dot x$"
   ]
  },
  {
   "cell_type": "markdown",
   "metadata": {},
   "source": [
    "## 添加自己的库"
   ]
  },
  {
   "cell_type": "code",
   "execution_count": null,
   "metadata": {
    "ExecuteTime": {
     "end_time": "2018-03-20T11:32:37.375366Z",
     "start_time": "2018-03-20T11:32:33.980383Z"
    }
   },
   "outputs": [
    {
     "name": "stderr",
     "output_type": "stream",
     "text": [
      "C:\\Anaconda3\\lib\\site-packages\\h5py\\__init__.py:34: FutureWarning: Conversion of the second argument of issubdtype from `float` to `np.floating` is deprecated. In future, it will be treated as `np.float64 == np.dtype(float).type`.\n",
      "  from ._conv import register_converters as _register_converters\n"
     ]
    }
   ],
   "source": [
    "import sys\n",
    "sys.path.append(r'E:\\xinlib')\n",
    "\n",
    "import numpy as np\n",
    "import tensorflow as tf\n",
    "from numpy.random import RandomState\n",
    "\n",
    "import xin"
   ]
  },
  {
   "cell_type": "code",
   "execution_count": 5,
   "metadata": {
    "ExecuteTime": {
     "end_time": "2018-03-20T11:34:22.657269Z",
     "start_time": "2018-03-20T11:34:22.649267Z"
    }
   },
   "outputs": [],
   "source": [
    "batch_size = 8\n",
    "rdm = RandomState(1)\n",
    "X = rdm.rand(128, 2)\n",
    "Y = [[int(x1+x2 < 1)] for (x1, x2) in X]\n",
    "\n",
    "for data, label in xin.data_iter(X, Y, batch_size):\n",
    "    break"
   ]
  },
  {
   "cell_type": "code",
   "execution_count": 6,
   "metadata": {
    "ExecuteTime": {
     "end_time": "2018-03-20T11:34:31.299272Z",
     "start_time": "2018-03-20T11:34:31.287303Z"
    }
   },
   "outputs": [
    {
     "data": {
      "text/plain": [
       "(8, 2)"
      ]
     },
     "execution_count": 6,
     "metadata": {},
     "output_type": "execute_result"
    }
   ],
   "source": [
    "data.shape"
   ]
  },
  {
   "cell_type": "code",
   "execution_count": 7,
   "metadata": {
    "ExecuteTime": {
     "end_time": "2018-03-20T11:34:40.004224Z",
     "start_time": "2018-03-20T11:34:39.998223Z"
    }
   },
   "outputs": [
    {
     "data": {
      "text/plain": [
       "(8, 1)"
      ]
     },
     "execution_count": 7,
     "metadata": {},
     "output_type": "execute_result"
    }
   ],
   "source": [
    "label.shape"
   ]
  },
  {
   "cell_type": "code",
   "execution_count": 8,
   "metadata": {
    "ExecuteTime": {
     "end_time": "2018-03-20T11:34:48.595742Z",
     "start_time": "2018-03-20T11:34:48.590744Z"
    }
   },
   "outputs": [
    {
     "data": {
      "text/plain": [
       "dtype('float32')"
      ]
     },
     "execution_count": 8,
     "metadata": {},
     "output_type": "execute_result"
    }
   ],
   "source": [
    "data.dtype"
   ]
  },
  {
   "cell_type": "markdown",
   "metadata": {},
   "source": [
    "## 重置计算图\n",
    "```py\n",
    "from tensorflow.python.framework import ops\n",
    "ops.reset_default_graph()\n",
    "```\n",
    "\n",
    "### 增加维度"
   ]
  },
  {
   "cell_type": "code",
   "execution_count": 17,
   "metadata": {
    "ExecuteTime": {
     "end_time": "2018-03-22T14:18:44.848490Z",
     "start_time": "2018-03-22T14:18:44.839525Z"
    }
   },
   "outputs": [
    {
     "data": {
      "text/plain": [
       "<tf.Tensor 'Const_2:0' shape=(6,) dtype=float32>"
      ]
     },
     "execution_count": 17,
     "metadata": {},
     "output_type": "execute_result"
    }
   ],
   "source": [
    "a = tf.constant([2, 3, 4, 5, 6, 6], dtype= tf.float32)\n",
    "a"
   ]
  },
  {
   "cell_type": "code",
   "execution_count": 18,
   "metadata": {
    "ExecuteTime": {
     "end_time": "2018-03-22T14:18:46.541492Z",
     "start_time": "2018-03-22T14:18:46.533500Z"
    }
   },
   "outputs": [
    {
     "data": {
      "text/plain": [
       "<tf.Tensor 'Shape_2:0' shape=(2,) dtype=int32>"
      ]
     },
     "execution_count": 18,
     "metadata": {},
     "output_type": "execute_result"
    }
   ],
   "source": [
    "tf.shape(tf.expand_dims(a, 0))"
   ]
  },
  {
   "cell_type": "code",
   "execution_count": 19,
   "metadata": {
    "ExecuteTime": {
     "end_time": "2018-03-22T14:18:46.850529Z",
     "start_time": "2018-03-22T14:18:46.842517Z"
    }
   },
   "outputs": [
    {
     "data": {
      "text/plain": [
       "<tf.Tensor 'ExpandDims_12:0' shape=(1, 6) dtype=float32>"
      ]
     },
     "execution_count": 19,
     "metadata": {},
     "output_type": "execute_result"
    }
   ],
   "source": [
    "tf.expand_dims(a, 0)"
   ]
  },
  {
   "cell_type": "code",
   "execution_count": 20,
   "metadata": {
    "ExecuteTime": {
     "end_time": "2018-03-22T14:18:47.115493Z",
     "start_time": "2018-03-22T14:18:47.108493Z"
    }
   },
   "outputs": [
    {
     "data": {
      "text/plain": [
       "<tf.Tensor 'ExpandDims_13:0' shape=(6, 1) dtype=float32>"
      ]
     },
     "execution_count": 20,
     "metadata": {},
     "output_type": "execute_result"
    }
   ],
   "source": [
    "tf.expand_dims(a, 1)"
   ]
  },
  {
   "cell_type": "code",
   "execution_count": 21,
   "metadata": {
    "ExecuteTime": {
     "end_time": "2018-03-22T14:18:47.377492Z",
     "start_time": "2018-03-22T14:18:47.368490Z"
    }
   },
   "outputs": [
    {
     "data": {
      "text/plain": [
       "<tf.Tensor 'ExpandDims_14:0' shape=(6, 1) dtype=float32>"
      ]
     },
     "execution_count": 21,
     "metadata": {},
     "output_type": "execute_result"
    }
   ],
   "source": [
    "tf.expand_dims(a, -1)"
   ]
  },
  {
   "cell_type": "code",
   "execution_count": 25,
   "metadata": {
    "ExecuteTime": {
     "end_time": "2018-03-22T14:18:52.877528Z",
     "start_time": "2018-03-22T14:18:52.840496Z"
    }
   },
   "outputs": [
    {
     "name": "stdout",
     "output_type": "stream",
     "text": [
      "[2. 3. 4. 5. 6. 6.]\n"
     ]
    }
   ],
   "source": [
    "with tf.Session() as sess:\n",
    "    print(sess.run(a))"
   ]
  },
  {
   "cell_type": "code",
   "execution_count": 22,
   "metadata": {
    "ExecuteTime": {
     "end_time": "2018-03-22T14:18:48.046492Z",
     "start_time": "2018-03-22T14:18:47.947534Z"
    }
   },
   "outputs": [
    {
     "name": "stdout",
     "output_type": "stream",
     "text": [
      "[[2. 3. 4. 5. 6. 6.]]\n"
     ]
    }
   ],
   "source": [
    "with tf.Session() as sess:\n",
    "    print(sess.run(tf.expand_dims(a, 0)))"
   ]
  },
  {
   "cell_type": "code",
   "execution_count": 23,
   "metadata": {
    "ExecuteTime": {
     "end_time": "2018-03-22T14:18:48.497495Z",
     "start_time": "2018-03-22T14:18:48.438494Z"
    }
   },
   "outputs": [
    {
     "name": "stdout",
     "output_type": "stream",
     "text": [
      "[[2.]\n",
      " [3.]\n",
      " [4.]\n",
      " [5.]\n",
      " [6.]\n",
      " [6.]]\n"
     ]
    }
   ],
   "source": [
    "with tf.Session() as sess:\n",
    "    print(sess.run(tf.expand_dims(a, 1)))"
   ]
  },
  {
   "cell_type": "code",
   "execution_count": 24,
   "metadata": {
    "ExecuteTime": {
     "end_time": "2018-03-22T14:18:49.703496Z",
     "start_time": "2018-03-22T14:18:49.658494Z"
    }
   },
   "outputs": [
    {
     "name": "stdout",
     "output_type": "stream",
     "text": [
      "[[2.]\n",
      " [3.]\n",
      " [4.]\n",
      " [5.]\n",
      " [6.]\n",
      " [6.]]\n"
     ]
    }
   ],
   "source": [
    "with tf.Session() as sess:\n",
    "    print(sess.run(tf.expand_dims(a, -1)))"
   ]
  },
  {
   "cell_type": "markdown",
   "metadata": {},
   "source": [
    "### 裁剪多余维度: `tf.squeeze`"
   ]
  },
  {
   "cell_type": "code",
   "execution_count": 26,
   "metadata": {
    "ExecuteTime": {
     "end_time": "2018-03-22T14:24:02.754947Z",
     "start_time": "2018-03-22T14:24:02.751980Z"
    }
   },
   "outputs": [],
   "source": [
    "import numpy as np"
   ]
  },
  {
   "cell_type": "code",
   "execution_count": 34,
   "metadata": {
    "ExecuteTime": {
     "end_time": "2018-03-22T14:26:46.746717Z",
     "start_time": "2018-03-22T14:26:46.735717Z"
    }
   },
   "outputs": [
    {
     "data": {
      "text/plain": [
       "TensorShape([Dimension(32), Dimension(32)])"
      ]
     },
     "execution_count": 34,
     "metadata": {},
     "output_type": "execute_result"
    }
   ],
   "source": [
    "a = np.arange(1024).reshape((1, 32, 32, 1))\n",
    "w = tf.squeeze(a)\n",
    "w.shape"
   ]
  },
  {
   "cell_type": "markdown",
   "metadata": {
    "ExecuteTime": {
     "end_time": "2018-03-22T14:26:50.482340Z",
     "start_time": "2018-03-22T14:26:50.477319Z"
    }
   },
   "source": [
    "## 随机张量\n",
    "\n",
    "- `tf.random_uniform(shape, minval=0, maxval=None)` 生成均匀分布的随机数  $x$：$(minval \\leq x < maxval)$\n",
    "更多函数参考：[TensorFlow常用的函数](http://www.cnblogs.com/q735613050/p/7777802.html)\n",
    "\n",
    "### 张量或数组的随机化\n",
    "- `tf.random_crop(input_tensor)`\n",
    "- `tf.random_shuffle(input_tensor, crop_size)` 实现对张量的指定大小进行随机裁剪。\n",
    "\n",
    "## [深度学习与计算机视觉](https://book.douban.com/subject/27125397/)\n",
    "代码库地址：\n",
    "https://github.com/frombeijingwithlove/dlcv_for_beginners"
   ]
  },
  {
   "cell_type": "code",
   "execution_count": null,
   "metadata": {},
   "outputs": [],
   "source": []
  }
 ],
 "metadata": {
  "kernelspec": {
   "display_name": "Python 3",
   "language": "python",
   "name": "python3"
  },
  "language_info": {
   "codemirror_mode": {
    "name": "ipython",
    "version": 3
   },
   "file_extension": ".py",
   "mimetype": "text/x-python",
   "name": "python",
   "nbconvert_exporter": "python",
   "pygments_lexer": "ipython3",
   "version": "3.6.3"
  },
  "latex_envs": {
   "LaTeX_envs_menu_present": true,
   "autoclose": false,
   "autocomplete": true,
   "bibliofile": "biblio.bib",
   "cite_by": "apalike",
   "current_citInitial": 1.0,
   "eqLabelWithNumbers": true,
   "eqNumInitial": 1.0,
   "hotkeys": {
    "equation": "Ctrl-E",
    "itemize": "Ctrl-I"
   },
   "labels_anchors": false,
   "latex_user_defs": false,
   "report_style_numbering": false,
   "user_envs_cfg": false
  },
  "toc": {
   "nav_menu": {},
   "number_sections": true,
   "sideBar": true,
   "skip_h1_title": false,
   "title_cell": "Table of Contents",
   "title_sidebar": "Contents",
   "toc_cell": false,
   "toc_position": {
    "height": "calc(100% - 180px)",
    "left": "10px",
    "top": "150px",
    "width": "390px"
   },
   "toc_section_display": true,
   "toc_window_display": true
  },
  "varInspector": {
   "cols": {
    "lenName": 16.0,
    "lenType": 16.0,
    "lenVar": 40.0
   },
   "kernels_config": {
    "python": {
     "delete_cmd_postfix": "",
     "delete_cmd_prefix": "del ",
     "library": "var_list.py",
     "varRefreshCmd": "print(var_dic_list())"
    },
    "r": {
     "delete_cmd_postfix": ") ",
     "delete_cmd_prefix": "rm(",
     "library": "var_list.r",
     "varRefreshCmd": "cat(var_dic_list()) "
    }
   },
   "types_to_exclude": [
    "module",
    "function",
    "builtin_function_or_method",
    "instance",
    "_Feature"
   ],
   "window_display": false
  }
 },
 "nbformat": 4,
 "nbformat_minor": 2
}

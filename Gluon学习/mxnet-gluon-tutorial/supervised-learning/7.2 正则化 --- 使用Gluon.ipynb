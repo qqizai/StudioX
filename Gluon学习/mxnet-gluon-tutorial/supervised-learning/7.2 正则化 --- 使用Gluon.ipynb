{
 "cells": [
  {
   "cell_type": "markdown",
   "metadata": {},
   "source": [
    "# 正则化 --- 使用Gluon\n",
    "\n",
    "本章介绍如何使用``Gluon``的正则化来应对[过拟合]()问题。\n",
    "\n",
    "## 高维线性回归数据集\n",
    "\n",
    "我们使用与[上一节]()相同的高维线性回归为例来引入一个过拟合问题。\n"
   ]
  },
  {
   "cell_type": "code",
   "execution_count": 1,
   "metadata": {},
   "outputs": [
    {
     "name": "stderr",
     "output_type": "stream",
     "text": [
      "c:\\anaconda3\\lib\\site-packages\\h5py\\__init__.py:34: FutureWarning: Conversion of the second argument of issubdtype from `float` to `np.floating` is deprecated. In future, it will be treated as `np.float64 == np.dtype(float).type`.\n",
      "  from ._conv import register_converters as _register_converters\n",
      "c:\\anaconda3\\lib\\site-packages\\urllib3\\contrib\\pyopenssl.py:46: DeprecationWarning: OpenSSL.rand is deprecated - you should use os.urandom instead\n",
      "  import OpenSSL.SSL\n"
     ]
    }
   ],
   "source": [
    "from mxnet import ndarray as nd\n",
    "from mxnet import autograd\n",
    "from mxnet import gluon\n",
    "import mxnet as mx\n",
    "\n",
    "num_train = 20\n",
    "num_test = 100\n",
    "num_inputs = 200\n",
    "\n",
    "true_w = nd.ones((num_inputs, 1)) * 0.01\n",
    "true_b = 0.05\n",
    "\n",
    "X = nd.random.normal(shape=(num_train + num_test, num_inputs))\n",
    "y = nd.dot(X, true_w) + true_b\n",
    "y += .01 * nd.random.normal(shape=y.shape)\n",
    "\n",
    "X_train, X_test = X[:num_train, :], X[num_train:, :]\n",
    "y_train, y_test = y[:num_train], y[num_train:]"
   ]
  },
  {
   "cell_type": "markdown",
   "metadata": {},
   "source": [
    "## 定义训练和测试\n",
    "\n",
    "跟前一样定义训练模块。你也许发现了主要区别，`Trainer`有一个新参数`wd`。我们通过优化算法的``wd``参数 (weight decay)实现对模型的正则化。这相当于$L_2$范数正则化。"
   ]
  },
  {
   "cell_type": "code",
   "execution_count": 3,
   "metadata": {},
   "outputs": [],
   "source": [
    "gluon.Trainer?"
   ]
  },
  {
   "cell_type": "code",
   "execution_count": 2,
   "metadata": {},
   "outputs": [],
   "source": [
    "%matplotlib inline\n",
    "import matplotlib as mpl\n",
    "mpl.rcParams['figure.dpi']= 120\n",
    "import matplotlib.pyplot as plt\n",
    "import numpy as np\n",
    "\n",
    "batch_size = 1\n",
    "dataset_train = gluon.data.ArrayDataset(X_train, y_train)\n",
    "data_iter_train = gluon.data.DataLoader(dataset_train, batch_size, shuffle=True)\n",
    "\n",
    "square_loss = gluon.loss.L2Loss()\n",
    "\n",
    "def test(net, X, y):\n",
    "    return square_loss(net(X), y).mean().asscalar()\n",
    "\n",
    "def train(weight_decay):\n",
    "    epochs = 10\n",
    "    learning_rate = 0.005\n",
    "    net = gluon.nn.Sequential()\n",
    "    with net.name_scope():\n",
    "        net.add(gluon.nn.Dense(1))\n",
    "    net.collect_params().initialize(mx.init.Normal(sigma=1))\n",
    "\n",
    "    # 注意到这里 'wd'\n",
    "    trainer = gluon.Trainer(net.collect_params(), 'sgd', {\n",
    "        'learning_rate': learning_rate, 'wd': weight_decay})\n",
    "    \n",
    "    train_loss = []\n",
    "    test_loss = []\n",
    "    for e in range(epochs):        \n",
    "        for data, label in data_iter_train:\n",
    "            with autograd.record():\n",
    "                output = net(data)\n",
    "                loss = square_loss(output, label)\n",
    "            loss.backward()\n",
    "            trainer.step(batch_size)            \n",
    "        train_loss.append(test(net, X_train, y_train))\n",
    "        test_loss.append(test(net, X_test, y_test))\n",
    "    plt.plot(train_loss)\n",
    "    plt.plot(test_loss)\n",
    "    plt.legend(['train','test'])\n",
    "    plt.show()\n",
    "\n",
    "    return ('learned w[:10]:', net[0].weight.data()[:,:10], \n",
    "            'learned b:', net[0].bias.data())"
   ]
  },
  {
   "cell_type": "markdown",
   "metadata": {},
   "source": [
    "### 训练模型并观察过拟合\n",
    "\n",
    "接下来我们训练并测试我们的高维线性回归模型。"
   ]
  },
  {
   "cell_type": "code",
   "execution_count": 3,
   "metadata": {},
   "outputs": [
    {
     "data": {
      "image/png": "[encoded data removed]",
      "text/plain": [
       "<matplotlib.figure.Figure at 0x22265553f60>"
      ]
     },
     "metadata": {},
     "output_type": "display_data"
    },
    {
     "data": {
      "text/plain": [
       "('learned w[:10]:', \n",
       " [[ 0.66351265  0.4148293   0.139034    0.7056324   0.9513437   0.60462874\n",
       "   -1.5091933  -0.28549913  0.50639105 -0.93982106]]\n",
       " <NDArray 1x10 @cpu(0)>, 'learned b:', \n",
       " [-0.3102827]\n",
       " <NDArray 1 @cpu(0)>)"
      ]
     },
     "execution_count": 3,
     "metadata": {},
     "output_type": "execute_result"
    }
   ],
   "source": [
    "train(0)"
   ]
  },
  {
   "cell_type": "markdown",
   "metadata": {},
   "source": [
    "即便训练误差可以达到 $0.000000$，但是测试数据集上的误差很高。这是典型的过拟合现象。\n",
    "\n",
    "观察学习的参数。事实上，大部分学到的参数的绝对值比真实参数的绝对值要大一些。\n",
    "\n",
    "## 使用``Gluon``的正则化\n",
    "\n",
    "下面我们重新初始化模型参数并在`Trainer`里设置一个`wd`参数。"
   ]
  },
  {
   "cell_type": "code",
   "execution_count": 4,
   "metadata": {},
   "outputs": [
    {
     "data": {
      "image/png": "[encoded data removed]",
      "text/plain": [
       "<matplotlib.figure.Figure at 0x2225500b7f0>"
      ]
     },
     "metadata": {},
     "output_type": "display_data"
    },
    {
     "data": {
      "text/plain": [
       "('learned w[:10]:', \n",
       " [[ 0.00501012  0.00103364  0.01504096  0.00059534  0.00618694 -0.0042805\n",
       "   -0.00211839  0.01688572 -0.0106975   0.00296203]]\n",
       " <NDArray 1x10 @cpu(0)>, 'learned b:', \n",
       " [0.00354912]\n",
       " <NDArray 1 @cpu(0)>)"
      ]
     },
     "execution_count": 4,
     "metadata": {},
     "output_type": "execute_result"
    }
   ],
   "source": [
    "train(5)"
   ]
  },
  {
   "cell_type": "markdown",
   "metadata": {},
   "source": [
    "我们发现训练误差虽然有所提高，但测试数据集上的误差有所下降。过拟合现象得到缓解。\n",
    "但打印出的学到的参数依然不是很理想，这主要是因为我们训练数据的样本相对维度来说太少。\n",
    "\n",
    "## 结论\n",
    "\n",
    "* 使用``Gluon``的`weight decay`参数可以很容易地使用正则化来应对过拟合问题。\n",
    "\n",
    "## 练习\n",
    "\n",
    "* 如何从字面正确理解`weight decay`的含义？它为何相当于$L_2$范式正则化？\n",
    "\n",
    "**吐槽和讨论欢迎点**[这里](https://discuss.gluon.ai/t/topic/985)"
   ]
  },
  {
   "cell_type": "code",
   "execution_count": null,
   "metadata": {},
   "outputs": [],
   "source": []
  }
 ],
 "metadata": {
  "kernelspec": {
   "display_name": "Python 3",
   "language": "python",
   "name": "python3"
  },
  "language_info": {
   "codemirror_mode": {
    "name": "ipython",
    "version": 3
   },
   "file_extension": ".py",
   "mimetype": "text/x-python",
   "name": "python",
   "nbconvert_exporter": "python",
   "pygments_lexer": "ipython3",
   "version": "3.6.3"
  }
 },
 "nbformat": 4,
 "nbformat_minor": 2
}

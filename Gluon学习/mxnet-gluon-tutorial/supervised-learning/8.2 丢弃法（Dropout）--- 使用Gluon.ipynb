{
 "cells": [
  {
   "cell_type": "markdown",
   "metadata": {
    "toc": true
   },
   "source": [
    "<h1>Table of Contents<span class=\"tocSkip\"></span></h1>\n",
    "<div class=\"toc\"><ul class=\"toc-item\"><li><span><a href=\"#丢弃法（Dropout）----使用Gluon\" data-toc-modified-id=\"丢弃法（Dropout）----使用Gluon-1\"><span class=\"toc-item-num\">1&nbsp;&nbsp;</span>丢弃法（Dropout）--- 使用Gluon</a></span><ul class=\"toc-item\"><li><span><a href=\"#定义模型并添加丢弃层\" data-toc-modified-id=\"定义模型并添加丢弃层-1.1\"><span class=\"toc-item-num\">1.1&nbsp;&nbsp;</span>定义模型并添加丢弃层</a></span></li><li><span><a href=\"#读取数据并训练\" data-toc-modified-id=\"读取数据并训练-1.2\"><span class=\"toc-item-num\">1.2&nbsp;&nbsp;</span>读取数据并训练</a></span></li><li><span><a href=\"#结论\" data-toc-modified-id=\"结论-1.3\"><span class=\"toc-item-num\">1.3&nbsp;&nbsp;</span>结论</a></span></li><li><span><a href=\"#练习\" data-toc-modified-id=\"练习-1.4\"><span class=\"toc-item-num\">1.4&nbsp;&nbsp;</span>练习</a></span></li></ul></li></ul></div>"
   ]
  },
  {
   "cell_type": "markdown",
   "metadata": {},
   "source": [
    "# 丢弃法（Dropout）--- 使用Gluon\n",
    "\n",
    "本章介绍如何使用``Gluon``在训练和测试深度学习模型中使用丢弃法 (Dropout)。\n",
    "\n",
    "\n",
    "## 定义模型并添加丢弃层\n",
    "\n",
    "有了`Gluon`，我们模型的定义工作变得简单了许多。我们只需要在全连接层后添加`gluon.nn.Dropout`层并指定元素丢弃概率。一般情况下，我们推荐把\n",
    "更靠近输入层的元素丢弃概率设的更小一点。这个试验中，我们把第一层全连接后的元素丢弃概率设为 $0.2$，把第二层全连接后的元素丢弃概率设为$0.5$。"
   ]
  },
  {
   "cell_type": "code",
   "execution_count": 1,
   "metadata": {},
   "outputs": [
    {
     "name": "stderr",
     "output_type": "stream",
     "text": [
      "C:\\Anaconda3\\lib\\site-packages\\h5py\\__init__.py:34: FutureWarning: Conversion of the second argument of issubdtype from `float` to `np.floating` is deprecated. In future, it will be treated as `np.float64 == np.dtype(float).type`.\n",
      "  from ._conv import register_converters as _register_converters\n",
      "C:\\Anaconda3\\lib\\site-packages\\urllib3\\contrib\\pyopenssl.py:46: DeprecationWarning: OpenSSL.rand is deprecated - you should use os.urandom instead\n",
      "  import OpenSSL.SSL\n"
     ]
    }
   ],
   "source": [
    "from mxnet.gluon import nn\n",
    "\n",
    "net = nn.Sequential()\n",
    "drop_prob1 = 0.2\n",
    "drop_prob2 = 0.5\n",
    "\n",
    "with net.name_scope():\n",
    "    net.add(nn.Flatten())\n",
    "    # 第一层全连接。\n",
    "    net.add(nn.Dense(256, activation=\"relu\"))\n",
    "    # 在第一层全连接后添加丢弃层。\n",
    "    net.add(nn.Dropout(drop_prob1))\n",
    "    # 第二层全连接。\n",
    "    net.add(nn.Dense(256, activation=\"relu\"))\n",
    "    # 在第二层全连接后添加丢弃层。\n",
    "    net.add(nn.Dropout(drop_prob2))\n",
    "    net.add(nn.Dense(10))\n",
    "net.initialize()"
   ]
  },
  {
   "cell_type": "markdown",
   "metadata": {},
   "source": [
    "## 读取数据并训练\n",
    "\n",
    "这跟之前没什么不同。"
   ]
  },
  {
   "cell_type": "code",
   "execution_count": 4,
   "metadata": {
    "code_folding": []
   },
   "outputs": [
    {
     "name": "stderr",
     "output_type": "stream",
     "text": [
      "C:\\Anaconda3\\lib\\site-packages\\mxnet\\gluon\\data\\vision.py:118: DeprecationWarning: The binary mode of fromstring is deprecated, as it behaves surprisingly on unicode inputs. Use frombuffer instead\n",
      "  label = np.fromstring(fin.read(), dtype=np.uint8).astype(np.int32)\n",
      "C:\\Anaconda3\\lib\\site-packages\\mxnet\\gluon\\data\\vision.py:122: DeprecationWarning: The binary mode of fromstring is deprecated, as it behaves surprisingly on unicode inputs. Use frombuffer instead\n",
      "  data = np.fromstring(fin.read(), dtype=np.uint8)\n"
     ]
    },
    {
     "name": "stdout",
     "output_type": "stream",
     "text": [
      "Epoch 0. Loss: 0.809707, Train acc 0.700416, Test acc 0.822168\n",
      "Epoch 1. Loss: 0.509004, Train acc 0.812988, Test acc 0.814160\n",
      "Epoch 2. Loss: 0.448460, Train acc 0.836237, Test acc 0.861621\n",
      "Epoch 3. Loss: 0.416817, Train acc 0.846177, Test acc 0.865625\n",
      "Epoch 4. Loss: 0.391886, Train acc 0.854566, Test acc 0.867480\n",
      "Epoch 5. Loss: 0.376736, Train acc 0.861098, Test acc 0.874512\n",
      "Epoch 6. Loss: 0.359503, Train acc 0.868312, Test acc 0.873926\n",
      "Epoch 7. Loss: 0.348973, Train acc 0.872069, Test acc 0.877637\n",
      "Epoch 8. Loss: 0.340112, Train acc 0.874845, Test acc 0.879590\n",
      "Epoch 9. Loss: 0.331384, Train acc 0.877000, Test acc 0.875195\n"
     ]
    }
   ],
   "source": [
    "from mxnet import nd\n",
    "from mxnet import gluon\n",
    "\n",
    "batch_size = 256\n",
    "root = 'E:/Data/MXNet/fashion_mnist'\n",
    "\n",
    "def transform(data, label):\n",
    "    return data.astype('float32')/255, label.astype('float32')\n",
    "mnist_train = gluon.data.vision.FashionMNIST(train=True, transform=transform, root= root)\n",
    "mnist_test = gluon.data.vision.FashionMNIST(train=False, transform=transform, root= root)\n",
    "\n",
    "train_data = gluon.data.DataLoader(mnist_train, batch_size, shuffle=True)\n",
    "test_data = gluon.data.DataLoader(mnist_test, batch_size, shuffle=False)\n",
    "\n",
    "from mxnet import autograd\n",
    "def accuracy(output, label):\n",
    "    return nd.mean(output.argmax(axis=1)==label).asscalar()\n",
    "\n",
    "def evaluate_accuracy(data_iterator, net):\n",
    "    acc = 0.\n",
    "    for data, label in data_iterator:\n",
    "        output = net(data)\n",
    "        acc += accuracy(output, label)\n",
    "    return acc / len(data_iterator)\n",
    "\n",
    "softmax_cross_entropy = gluon.loss.SoftmaxCrossEntropyLoss()\n",
    "trainer = gluon.Trainer(net.collect_params(), \n",
    "                        'sgd', {'learning_rate': 0.5})\n",
    "\n",
    "\n",
    "learning_rate = .5\n",
    "\n",
    "for epoch in range(10):\n",
    "    train_loss = 0.\n",
    "    train_acc = 0.\n",
    "    for data, label in train_data:\n",
    "        with autograd.record():\n",
    "            output = net(data)\n",
    "            loss = softmax_cross_entropy(output, label)\n",
    "        loss.backward()\n",
    "        trainer.step(batch_size)\n",
    "\n",
    "        train_loss += nd.mean(loss).asscalar()\n",
    "        train_acc += accuracy(output, label)\n",
    "\n",
    "    test_acc = evaluate_accuracy(test_data, net)\n",
    "    print(\"Epoch %d. Loss: %f, Train acc %f, Test acc %f\" % (\n",
    "        epoch, train_loss/len(train_data),\n",
    "        train_acc/len(train_data), test_acc))"
   ]
  },
  {
   "cell_type": "markdown",
   "metadata": {},
   "source": [
    "## 结论\n",
    "\n",
    "通过`Gluon`我们可以更方便地构造多层神经网络并使用丢弃法。\n",
    "\n",
    "## 练习\n",
    "\n",
    "- 尝试不同元素丢弃概率参数组合，看看结果有什么不同。\n",
    "\n",
    "**吐槽和讨论欢迎点**[这里](https://discuss.gluon.ai/t/topic/1279)"
   ]
  },
  {
   "cell_type": "code",
   "execution_count": null,
   "metadata": {},
   "outputs": [],
   "source": []
  }
 ],
 "metadata": {
  "kernelspec": {
   "display_name": "Python 3",
   "language": "python",
   "name": "python3"
  },
  "language_info": {
   "codemirror_mode": {
    "name": "ipython",
    "version": 3
   },
   "file_extension": ".py",
   "mimetype": "text/x-python",
   "name": "python",
   "nbconvert_exporter": "python",
   "pygments_lexer": "ipython3",
   "version": "3.6.3"
  },
  "latex_envs": {
   "LaTeX_envs_menu_present": true,
   "autoclose": false,
   "autocomplete": true,
   "bibliofile": "biblio.bib",
   "cite_by": "apalike",
   "current_citInitial": 1,
   "eqLabelWithNumbers": true,
   "eqNumInitial": 1,
   "hotkeys": {
    "equation": "Ctrl-E",
    "itemize": "Ctrl-I"
   },
   "labels_anchors": false,
   "latex_user_defs": false,
   "report_style_numbering": false,
   "user_envs_cfg": false
  },
  "nbTranslate": {
   "displayLangs": [
    "*"
   ],
   "hotkey": "alt-t",
   "langInMainMenu": true,
   "sourceLang": "en",
   "targetLang": "fr",
   "useGoogleTranslate": true
  },
  "toc": {
   "nav_menu": {},
   "number_sections": true,
   "sideBar": true,
   "skip_h1_title": false,
   "title_cell": "Table of Contents",
   "title_sidebar": "Contents",
   "toc_cell": true,
   "toc_position": {
    "height": "calc(100% - 180px)",
    "left": "10px",
    "top": "150px",
    "width": "351px"
   },
   "toc_section_display": true,
   "toc_window_display": true
  },
  "varInspector": {
   "cols": {
    "lenName": 16,
    "lenType": 16,
    "lenVar": 40
   },
   "kernels_config": {
    "python": {
     "delete_cmd_postfix": "",
     "delete_cmd_prefix": "del ",
     "library": "var_list.py",
     "varRefreshCmd": "print(var_dic_list())"
    },
    "r": {
     "delete_cmd_postfix": ") ",
     "delete_cmd_prefix": "rm(",
     "library": "var_list.r",
     "varRefreshCmd": "cat(var_dic_list()) "
    }
   },
   "types_to_exclude": [
    "module",
    "function",
    "builtin_function_or_method",
    "instance",
    "_Feature"
   ],
   "window_display": false
  }
 },
 "nbformat": 4,
 "nbformat_minor": 2
}

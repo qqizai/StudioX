{
 "cells": [
  {
   "cell_type": "markdown",
   "metadata": {},
   "source": [
    "# 多类逻辑回归 --- 从0开始\n",
    "\n",
    "如果你读过了 [从0开始的线性回归](linear-regression-scratch.md)，那么最难的部分已经过去了。现在你知道如果读取和操作数据，如何构造目标函数和对它求导，如果定义损失函数，模型和求解。\n",
    "\n",
    "下面我们来看一个稍微有意思一点的问题，如何使用多类逻辑回归进行多类分类。这个模型跟线性回归的主要区别在于输出节点从一个变成了多个。\n",
    "\n",
    "## 获取数据\n",
    "\n",
    "演示这个模型的常见数据集是手写数字识别 MNIST。\n",
    "\n",
    "这里我们用了一个稍微复杂点的数据集，它跟 MNIST 非常像，但是内容不再是分类数字，而是服饰。我们通过 gluon 的 `data.vision` 模块自动下载这个数据。"
   ]
  },
  {
   "cell_type": "code",
   "execution_count": 1,
   "metadata": {
    "ExecuteTime": {
     "end_time": "2018-12-04T04:27:58.402741Z",
     "start_time": "2018-12-04T04:25:43.805494Z"
    },
    "scrolled": true
   },
   "outputs": [
    {
     "name": "stderr",
     "output_type": "stream",
     "text": [
      "C:\\ProgramData\\Anaconda3\\lib\\site-packages\\h5py\\__init__.py:36: FutureWarning: Conversion of the second argument of issubdtype from `float` to `np.floating` is deprecated. In future, it will be treated as `np.float64 == np.dtype(float).type`.\n",
      "  from ._conv import register_converters as _register_converters\n"
     ]
    },
    {
     "name": "stdout",
     "output_type": "stream",
     "text": [
      "Downloading C:\\Users\\q7356\\AppData\\Roaming\\mxnet\\datasets\\fashion-mnist\\train-images-idx3-ubyte.gz from https://apache-mxnet.s3-accelerate.dualstack.amazonaws.com/gluon/dataset/fashion-mnist/train-images-idx3-ubyte.gz...\n",
      "download failed, retrying, 4 attempts left\n",
      "Downloading C:\\Users\\q7356\\AppData\\Roaming\\mxnet\\datasets\\fashion-mnist\\train-images-idx3-ubyte.gz from https://apache-mxnet.s3-accelerate.dualstack.amazonaws.com/gluon/dataset/fashion-mnist/train-images-idx3-ubyte.gz...\n",
      "download failed, retrying, 3 attempts left\n",
      "Downloading C:\\Users\\q7356\\AppData\\Roaming\\mxnet\\datasets\\fashion-mnist\\train-images-idx3-ubyte.gz from https://apache-mxnet.s3-accelerate.dualstack.amazonaws.com/gluon/dataset/fashion-mnist/train-images-idx3-ubyte.gz...\n",
      "Downloading C:\\Users\\q7356\\AppData\\Roaming\\mxnet\\datasets\\fashion-mnist\\train-labels-idx1-ubyte.gz from https://apache-mxnet.s3-accelerate.dualstack.amazonaws.com/gluon/dataset/fashion-mnist/train-labels-idx1-ubyte.gz...\n",
      "Downloading C:\\Users\\q7356\\AppData\\Roaming\\mxnet\\datasets\\fashion-mnist\\t10k-images-idx3-ubyte.gz from https://apache-mxnet.s3-accelerate.dualstack.amazonaws.com/gluon/dataset/fashion-mnist/t10k-images-idx3-ubyte.gz...\n",
      "Downloading C:\\Users\\q7356\\AppData\\Roaming\\mxnet\\datasets\\fashion-mnist\\t10k-labels-idx1-ubyte.gz from https://apache-mxnet.s3-accelerate.dualstack.amazonaws.com/gluon/dataset/fashion-mnist/t10k-labels-idx1-ubyte.gz...\n"
     ]
    }
   ],
   "source": [
    "from mxnet import gluon\n",
    "from mxnet import ndarray as nd\n",
    "import mxnet as mx\n",
    "\n",
    "def transform(data, label):\n",
    "    return data.astype('float32')/255, label.astype('float32')\n",
    "mnist_train = gluon.data.vision.FashionMNIST(train=True, transform= transform)\n",
    "mnist_test = gluon.data.vision.FashionMNIST(train=False, transform= transform)"
   ]
  },
  {
   "cell_type": "markdown",
   "metadata": {},
   "source": [
    "打印一个样本的形状和它的标号"
   ]
  },
  {
   "cell_type": "code",
   "execution_count": 2,
   "metadata": {
    "ExecuteTime": {
     "end_time": "2018-12-04T04:28:05.334555Z",
     "start_time": "2018-12-04T04:28:05.307553Z"
    }
   },
   "outputs": [
    {
     "data": {
      "text/plain": [
       "('example shape: ', (28, 28, 1), 'label:', 2.0)"
      ]
     },
     "execution_count": 2,
     "metadata": {},
     "output_type": "execute_result"
    }
   ],
   "source": [
    "data, label = mnist_train[0]\n",
    "('example shape: ', data.shape, 'label:', label)"
   ]
  },
  {
   "cell_type": "markdown",
   "metadata": {},
   "source": [
    "我们画出前几个样本的内容，和对应的文本标号"
   ]
  },
  {
   "cell_type": "code",
   "execution_count": 3,
   "metadata": {
    "ExecuteTime": {
     "end_time": "2018-12-04T04:28:09.335211Z",
     "start_time": "2018-12-04T04:28:08.668164Z"
    }
   },
   "outputs": [
    {
     "name": "stdout",
     "output_type": "stream",
     "text": [
      "Populating the interactive namespace from numpy and matplotlib\n"
     ]
    },
    {
     "data": {
      "image/png": "[encoded data removed]",
      "text/plain": [
       "<Figure size 1080x1080 with 9 Axes>"
      ]
     },
     "metadata": {},
     "output_type": "display_data"
    },
    {
     "name": "stdout",
     "output_type": "stream",
     "text": [
      "['pullover', 'ankle boot', 'shirt', 't-shirt', 'dress,', 'coat', 'coat', 'sandal', 'coat']\n"
     ]
    }
   ],
   "source": [
    "%pylab inline\n",
    "\n",
    "def show_images(images):\n",
    "    n = images.shape[0]\n",
    "    _, figs = plt.subplots(1, n, figsize=(15, 15))\n",
    "    for i in range(n):\n",
    "        figs[i].imshow(images[i].reshape((28, 28)).asnumpy())\n",
    "        figs[i].axes.get_xaxis().set_visible(False)\n",
    "        figs[i].axes.get_yaxis().set_visible(False)\n",
    "    plt.show()\n",
    "\n",
    "def get_text_labels(label):\n",
    "    text_labels = [\n",
    "        't-shirt', 'trouser', 'pullover', 'dress,', 'coat',\n",
    "        'sandal', 'shirt', 'sneaker', 'bag', 'ankle boot'\n",
    "    ]\n",
    "    return [text_labels[int(i)] for i in label]\n",
    "\n",
    "data, label = mnist_train[0:9]\n",
    "show_images(data)\n",
    "print(get_text_labels(label))"
   ]
  },
  {
   "cell_type": "markdown",
   "metadata": {},
   "source": [
    "## 数据读取\n",
    "\n",
    "虽然我们可以像前面那样通过 `yield` 来定义获取批量数据函数，这里我们直接使用 `gluon.data` 的 `DataLoader` 函数，它每次 `yield` 一个批量。"
   ]
  },
  {
   "cell_type": "code",
   "execution_count": 4,
   "metadata": {
    "ExecuteTime": {
     "end_time": "2018-12-04T04:28:28.250097Z",
     "start_time": "2018-12-04T04:28:28.245097Z"
    }
   },
   "outputs": [],
   "source": [
    "batch_size = 256\n",
    "train_data = gluon.data.DataLoader(mnist_train, batch_size, shuffle=True)\n",
    "test_data = gluon.data.DataLoader(mnist_test, batch_size, shuffle=False)"
   ]
  },
  {
   "cell_type": "markdown",
   "metadata": {},
   "source": [
    "注意到这里我们要求每次从训练数据里读取一个由随机样本组成的批量，但测试数据则不需要这个要求。\n",
    "\n",
    "## 初始化模型参数\n",
    "\n",
    "跟线性模型一样，每个样本会表示成一个向量。我们这里数据是 $28 \\times 28$ 大小的图片，所以输入向量的长度是 $28 \\times 28$ = $784$。因为我们要做多类分类，我们需要对每一个类预测这个样本属于此类的概率。因为这个数据集有 $10$ 个类型，所以输出应该是长为 $10$ 的向量。这样，我们需要的权重将是一个 $784 \\times 10$ 的矩阵："
   ]
  },
  {
   "cell_type": "code",
   "execution_count": 5,
   "metadata": {
    "ExecuteTime": {
     "end_time": "2018-12-04T04:28:31.248983Z",
     "start_time": "2018-12-04T04:28:31.234988Z"
    }
   },
   "outputs": [],
   "source": [
    "num_inputs = 784\n",
    "num_outputs = 10\n",
    "\n",
    "W = nd.random_normal(shape=(num_inputs, num_outputs))\n",
    "b = nd.random_normal(shape=num_outputs)\n",
    "\n",
    "params = [W, b]"
   ]
  },
  {
   "cell_type": "markdown",
   "metadata": {},
   "source": [
    "同之前一样，我们要对模型参数附上梯度："
   ]
  },
  {
   "cell_type": "code",
   "execution_count": 6,
   "metadata": {
    "ExecuteTime": {
     "end_time": "2018-12-04T04:28:34.774732Z",
     "start_time": "2018-12-04T04:28:34.765698Z"
    }
   },
   "outputs": [],
   "source": [
    "for param in params:\n",
    "    param.attach_grad()"
   ]
  },
  {
   "cell_type": "markdown",
   "metadata": {},
   "source": [
    "## 定义模型\n",
    "\n",
    "在线性回归教程里，我们只需要输出一个标量 `yhat` 使得尽可能的靠近目标值。但在这里的分类里，我们需要属于每个类别的概率。这些概率需要值为正，而且加起来等于 $1$. 而如果简单的使用 $\\boldsymbol{\\hat y} = \\boldsymbol{W} \\boldsymbol{x}$, 我们不能保证这一点。一个通常的做法是通过 softmax 函数来将任意的输入归一化成合法的概率值。"
   ]
  },
  {
   "cell_type": "code",
   "execution_count": 7,
   "metadata": {
    "ExecuteTime": {
     "end_time": "2018-12-04T04:28:48.972760Z",
     "start_time": "2018-12-04T04:28:48.968787Z"
    }
   },
   "outputs": [],
   "source": [
    "from mxnet import nd\n",
    "def softmax(X):\n",
    "    exp = nd.exp(X)\n",
    "    # 假设 exp 是矩阵，这里对行进行求和，并要求保留 axis 1，\n",
    "    # 就是返回 (nrows, 1) 形状的矩阵\n",
    "    partition = exp.sum(axis=1, keepdims=True)\n",
    "    return exp / partition"
   ]
  },
  {
   "cell_type": "markdown",
   "metadata": {},
   "source": [
    "可以看到，对于随机输入，我们将每个元素变成了非负数，而且每一行加起来为 $1$。"
   ]
  },
  {
   "cell_type": "code",
   "execution_count": 8,
   "metadata": {
    "ExecuteTime": {
     "end_time": "2018-12-04T04:28:51.837411Z",
     "start_time": "2018-12-04T04:28:51.814412Z"
    }
   },
   "outputs": [
    {
     "name": "stdout",
     "output_type": "stream",
     "text": [
      "\n",
      "[[[0.02758105 0.70377964 0.25102016]\n",
      "  [0.577294   0.02865675 0.2299657 ]\n",
      "  [0.15580861 0.03634756 0.3331564 ]\n",
      "  [0.11410208 0.2201724  0.06641383]\n",
      "  [0.12521426 0.0110436  0.11944389]]\n",
      "\n",
      " [[0.07374652 0.17250887 0.03227232]\n",
      "  [0.26326433 0.10429117 0.45537147]\n",
      "  [0.5569484  0.05582633 0.43593147]\n",
      "  [0.04705451 0.53968406 0.05751768]\n",
      "  [0.05898622 0.12768959 0.01890709]]]\n",
      "<NDArray 2x5x3 @cpu(0)>\n",
      "(2, 5, 3)\n",
      "\n",
      "[[1.         0.99999994 1.        ]\n",
      " [1.         1.         1.        ]]\n",
      "<NDArray 2x3 @cpu(0)>\n"
     ]
    }
   ],
   "source": [
    "X = nd.random_normal(shape=(2, 5, 3))\n",
    "X_prob = softmax(X)\n",
    "print(X_prob)\n",
    "print(X_prob.shape)\n",
    "print(X_prob.sum(axis=1))"
   ]
  },
  {
   "cell_type": "code",
   "execution_count": 9,
   "metadata": {
    "ExecuteTime": {
     "end_time": "2018-12-04T04:28:54.727390Z",
     "start_time": "2018-12-04T04:28:54.720389Z"
    }
   },
   "outputs": [
    {
     "data": {
      "text/plain": [
       "(2, 3)"
      ]
     },
     "execution_count": 9,
     "metadata": {},
     "output_type": "execute_result"
    }
   ],
   "source": [
    "X_prob.sum(axis=1).shape"
   ]
  },
  {
   "cell_type": "code",
   "execution_count": 10,
   "metadata": {
    "ExecuteTime": {
     "end_time": "2018-12-04T04:28:55.352385Z",
     "start_time": "2018-12-04T04:28:55.345422Z"
    }
   },
   "outputs": [
    {
     "data": {
      "text/plain": [
       "(2, 1, 3)"
      ]
     },
     "execution_count": 10,
     "metadata": {},
     "output_type": "execute_result"
    }
   ],
   "source": [
    "X_prob.sum(axis=1, keepdims= True).shape"
   ]
  },
  {
   "cell_type": "code",
   "execution_count": 11,
   "metadata": {
    "ExecuteTime": {
     "end_time": "2018-12-04T04:28:56.854991Z",
     "start_time": "2018-12-04T04:28:56.846985Z"
    }
   },
   "outputs": [
    {
     "data": {
      "text/plain": [
       "\n",
       "[[1.         0.99999994 1.        ]\n",
       " [1.         1.         1.        ]]\n",
       "<NDArray 2x3 @cpu(0)>"
      ]
     },
     "execution_count": 11,
     "metadata": {},
     "output_type": "execute_result"
    }
   ],
   "source": [
    "X_prob.sum(axis=1)"
   ]
  },
  {
   "cell_type": "code",
   "execution_count": 12,
   "metadata": {
    "ExecuteTime": {
     "end_time": "2018-12-04T04:28:59.297995Z",
     "start_time": "2018-12-04T04:28:59.289995Z"
    },
    "scrolled": true
   },
   "outputs": [
    {
     "data": {
      "text/plain": [
       "\n",
       "[[[1.         0.99999994 1.        ]]\n",
       "\n",
       " [[1.         1.         1.        ]]]\n",
       "<NDArray 2x1x3 @cpu(0)>"
      ]
     },
     "execution_count": 12,
     "metadata": {},
     "output_type": "execute_result"
    }
   ],
   "source": [
    "X_prob.sum(axis=1, keepdims= True)"
   ]
  },
  {
   "cell_type": "code",
   "execution_count": 13,
   "metadata": {
    "ExecuteTime": {
     "end_time": "2018-12-04T04:29:00.431001Z",
     "start_time": "2018-12-04T04:29:00.423004Z"
    },
    "scrolled": true
   },
   "outputs": [
    {
     "data": {
      "text/plain": [
       "\n",
       "[[[3.]]\n",
       "\n",
       " [[3.]]]\n",
       "<NDArray 2x1x1 @cpu(0)>"
      ]
     },
     "execution_count": 13,
     "metadata": {},
     "output_type": "execute_result"
    }
   ],
   "source": [
    "X_prob.sum(axis=[1, 2], keepdims= True)"
   ]
  },
  {
   "cell_type": "code",
   "execution_count": 14,
   "metadata": {
    "ExecuteTime": {
     "end_time": "2018-12-04T04:29:01.810995Z",
     "start_time": "2018-12-04T04:29:01.804994Z"
    }
   },
   "outputs": [
    {
     "data": {
      "text/plain": [
       "\n",
       "[3. 3.]\n",
       "<NDArray 2 @cpu(0)>"
      ]
     },
     "execution_count": 14,
     "metadata": {},
     "output_type": "execute_result"
    }
   ],
   "source": [
    "axis = list(range(1, (len(X_prob.shape))))\n",
    "X_prob.sum(axis= axis)"
   ]
  },
  {
   "cell_type": "markdown",
   "metadata": {},
   "source": [
    "现在我们可以定义模型了："
   ]
  },
  {
   "cell_type": "code",
   "execution_count": 15,
   "metadata": {
    "ExecuteTime": {
     "end_time": "2018-12-04T04:29:04.159610Z",
     "start_time": "2018-12-04T04:29:04.156610Z"
    }
   },
   "outputs": [],
   "source": [
    "def net(X):\n",
    "    return softmax(nd.dot(X.reshape((-1,num_inputs)), W) + b)"
   ]
  },
  {
   "cell_type": "markdown",
   "metadata": {},
   "source": [
    "## 交叉熵损失函数\n",
    "\n",
    "我们需要定义一个针对预测为概率值的损失函数。其中最常见的是交叉熵损失函数，它将两个概率分布的负交叉熵作为目标值，最小化这个值等价于最大化这两个概率的相似度。\n",
    "\n",
    "具体来说，我们先将真实标号表示成一个概率分布，例如如果 `y=1`，那么其对应的分布就是一个除了第二个元素为 $1$ 其他全为 $0$ 的长为 $10$ 的向量，也就是 `yvec=[0, 1, 0, 0, 0, 0, 0, 0, 0, 0]`。那么交叉熵就是`yvec[0]*log(yhat[0])+...+yvec[n]*log(yhat[n])`。注意到`yvec`里面只有一个 $1$，那么前面等价于 `log(yhat[y])`。所以我们可以定义这个损失函数了："
   ]
  },
  {
   "cell_type": "code",
   "execution_count": 17,
   "metadata": {
    "ExecuteTime": {
     "end_time": "2018-12-04T08:29:18.539893Z",
     "start_time": "2018-12-04T08:29:18.494892Z"
    }
   },
   "outputs": [],
   "source": [
    "nd.pick?"
   ]
  },
  {
   "cell_type": "code",
   "execution_count": 34,
   "metadata": {
    "ExecuteTime": {
     "end_time": "2018-12-04T09:05:55.532437Z",
     "start_time": "2018-12-04T09:05:55.524434Z"
    }
   },
   "outputs": [
    {
     "data": {
      "text/plain": [
       "\n",
       "[[1. 6.]]\n",
       "<NDArray 1x2 @cpu(0)>"
      ]
     },
     "execution_count": 34,
     "metadata": {},
     "output_type": "execute_result"
    }
   ],
   "source": [
    "x = [[1., 2.], [3., 4.], [5., 6.]]\n",
    "x = nd.array(x)\n",
    "\n",
    "nd.pick(x, index=nd.array([0, 6]), axis=0, keepdims=True)"
   ]
  },
  {
   "cell_type": "code",
   "execution_count": 35,
   "metadata": {
    "ExecuteTime": {
     "end_time": "2018-12-04T09:06:06.554439Z",
     "start_time": "2018-12-04T09:06:06.546445Z"
    }
   },
   "outputs": [
    {
     "data": {
      "text/plain": [
       "\n",
       "[[1.]\n",
       " [4.]\n",
       " [6.]]\n",
       "<NDArray 3x1 @cpu(0)>"
      ]
     },
     "execution_count": 35,
     "metadata": {},
     "output_type": "execute_result"
    }
   ],
   "source": [
    "nd.pick(x, index= nd.array([0, 1, 3]), keepdims= True)"
   ]
  },
  {
   "cell_type": "code",
   "execution_count": 30,
   "metadata": {
    "ExecuteTime": {
     "end_time": "2018-12-04T09:03:22.808251Z",
     "start_time": "2018-12-04T09:03:22.802254Z"
    }
   },
   "outputs": [
    {
     "data": {
      "text/plain": [
       "array([[1., 2.],\n",
       "       [3., 4.],\n",
       "       [5., 6.]])"
      ]
     },
     "execution_count": 30,
     "metadata": {},
     "output_type": "execute_result"
    }
   ],
   "source": [
    "x = [[1., 2.], [3., 4.], [5., 6.]]\n",
    "x = np.array(x)\n",
    "\n",
    "np.take(x, [0, 1], axis=1)"
   ]
  },
  {
   "cell_type": "code",
   "execution_count": 46,
   "metadata": {
    "ExecuteTime": {
     "end_time": "2018-03-06T07:16:11.321063Z",
     "start_time": "2018-03-06T07:16:11.315061Z"
    }
   },
   "outputs": [
    {
     "data": {
      "text/plain": [
       "\n",
       "[[1.]\n",
       " [4.]\n",
       " [6.]]\n",
       "<NDArray 3x1 @cpu(0)>"
      ]
     },
     "execution_count": 46,
     "metadata": {},
     "output_type": "execute_result"
    }
   ],
   "source": [
    "nd.pick(x, index= nd.array([0, 1, 1]), keepdims= True)"
   ]
  },
  {
   "cell_type": "code",
   "execution_count": 50,
   "metadata": {
    "ExecuteTime": {
     "end_time": "2018-03-06T07:17:07.350156Z",
     "start_time": "2018-03-06T07:17:07.342158Z"
    }
   },
   "outputs": [
    {
     "data": {
      "text/plain": [
       "\n",
       "[1. 4. 5.]\n",
       "<NDArray 3 @cpu(0)>"
      ]
     },
     "execution_count": 50,
     "metadata": {},
     "output_type": "execute_result"
    }
   ],
   "source": [
    "nd.pick(x, index= nd.array([0, 1, 0]))"
   ]
  },
  {
   "cell_type": "code",
   "execution_count": 47,
   "metadata": {
    "ExecuteTime": {
     "end_time": "2018-03-06T07:16:12.058408Z",
     "start_time": "2018-03-06T07:16:12.051837Z"
    }
   },
   "outputs": [
    {
     "data": {
      "text/plain": [
       "\n",
       "[1. 4. 6.]\n",
       "<NDArray 3 @cpu(0)>"
      ]
     },
     "execution_count": 47,
     "metadata": {},
     "output_type": "execute_result"
    }
   ],
   "source": [
    "nd.pick(x, nd.array([0, 1, 1]))"
   ]
  },
  {
   "cell_type": "code",
   "execution_count": 39,
   "metadata": {
    "ExecuteTime": {
     "end_time": "2018-03-06T07:10:28.764968Z",
     "start_time": "2018-03-06T07:10:28.758967Z"
    }
   },
   "outputs": [],
   "source": [
    "def cross_entropy(yhat, y):\n",
    "    # 本函数实现 交叉熵的功能-\n",
    "    return - nd.pick(nd.log(yhat), y)"
   ]
  },
  {
   "cell_type": "markdown",
   "metadata": {},
   "source": [
    "## 计算精度\n",
    "\n",
    "给定一个概率输出，我们将预测概率最高的那个类作为预测的类，然后通过比较真实标号我们可以计算精度："
   ]
  },
  {
   "cell_type": "code",
   "execution_count": 51,
   "metadata": {
    "ExecuteTime": {
     "end_time": "2018-03-06T07:17:59.853644Z",
     "start_time": "2018-03-06T07:17:59.848646Z"
    }
   },
   "outputs": [
    {
     "data": {
      "text/plain": [
       "\n",
       "[1. 1. 1.]\n",
       "<NDArray 3 @cpu(0)>"
      ]
     },
     "execution_count": 51,
     "metadata": {},
     "output_type": "execute_result"
    }
   ],
   "source": [
    "x.argmax(axis= 1)"
   ]
  },
  {
   "cell_type": "code",
   "execution_count": 23,
   "metadata": {},
   "outputs": [],
   "source": [
    "def accuracy(output, label):\n",
    "    return nd.mean(output.argmax(axis=1) == label).asscalar()"
   ]
  },
  {
   "cell_type": "markdown",
   "metadata": {},
   "source": [
    "我们可以评估一个模型在这个数据上的精度。（这两个函数我们之后也会用到）"
   ]
  },
  {
   "cell_type": "code",
   "execution_count": 24,
   "metadata": {},
   "outputs": [],
   "source": [
    "def evaluate_accuracy(data_iterator, net):\n",
    "    acc = 0.\n",
    "    for data, label in data_iterator:\n",
    "        output = net(data)\n",
    "        acc += accuracy(output, label)\n",
    "    return acc / len(data_iterator)"
   ]
  },
  {
   "cell_type": "markdown",
   "metadata": {},
   "source": [
    "因为我们随机初始化了模型，所以这个模型的精度应该大概是 `1/num_outputs = 0.1`."
   ]
  },
  {
   "cell_type": "code",
   "execution_count": 25,
   "metadata": {
    "scrolled": true
   },
   "outputs": [
    {
     "data": {
      "text/plain": [
       "0.0267578125"
      ]
     },
     "execution_count": 25,
     "metadata": {},
     "output_type": "execute_result"
    }
   ],
   "source": [
    "evaluate_accuracy(test_data, net)"
   ]
  },
  {
   "cell_type": "markdown",
   "metadata": {},
   "source": [
    "## 训练\n",
    "\n",
    "训练代码跟前面的线性回归非常相似："
   ]
  },
  {
   "cell_type": "code",
   "execution_count": 26,
   "metadata": {},
   "outputs": [],
   "source": [
    "import mxnet as mx"
   ]
  },
  {
   "cell_type": "markdown",
   "metadata": {},
   "source": [
    "[graphlab.mxnet.optimizer.SGD](https://turi.com/products/create/docs/generated/graphlab.mxnet.optimizer.SGD.html)"
   ]
  },
  {
   "cell_type": "code",
   "execution_count": 27,
   "metadata": {},
   "outputs": [],
   "source": [
    "def SGD(params, lr):\n",
    "    for param in params:\n",
    "        param[:] -= lr * param.grad"
   ]
  },
  {
   "cell_type": "code",
   "execution_count": 28,
   "metadata": {
    "scrolled": true
   },
   "outputs": [
    {
     "name": "stdout",
     "output_type": "stream",
     "text": [
      "Epoch 0. Loss: 3.613347, Train acc 0.442996, Test acc 0.593262\n",
      "Epoch 1. Loss: 1.930355, Train acc 0.624873, Test acc 0.661035\n",
      "Epoch 2. Loss: 1.593825, Train acc 0.673975, Test acc 0.694531\n",
      "Epoch 3. Loss: 1.420847, Train acc 0.700670, Test acc 0.716016\n",
      "Epoch 4. Loss: 1.308850, Train acc 0.718379, Test acc 0.727344\n"
     ]
    }
   ],
   "source": [
    "from mxnet import autograd\n",
    "\n",
    "learning_rate = .1\n",
    "\n",
    "for epoch in range(5):\n",
    "    train_loss = 0.\n",
    "    train_acc = 0.\n",
    "    for data, label in train_data:\n",
    "        with autograd.record():\n",
    "            output = net(data)\n",
    "            loss = cross_entropy(output, label)\n",
    "        loss.backward()\n",
    "        # 将梯度做平均，这样学习率会对 batch size 不那么敏感\n",
    "        SGD(params, learning_rate/batch_size)\n",
    "    \n",
    "        train_loss += nd.mean(loss).asscalar()\n",
    "        train_acc += accuracy(output, label)\n",
    "\n",
    "    test_acc = evaluate_accuracy(test_data, net)\n",
    "    print(\"Epoch %d. Loss: %f, Train acc %f, Test acc %f\" % (\n",
    "        epoch, train_loss/len(train_data), train_acc/len(train_data), test_acc))"
   ]
  },
  {
   "cell_type": "markdown",
   "metadata": {},
   "source": [
    "## 预测\n",
    "\n",
    "训练完成后，现在我们可以演示对输入图片的标号的预测"
   ]
  },
  {
   "cell_type": "code",
   "execution_count": 65,
   "metadata": {},
   "outputs": [
    {
     "data": {
      "image/png": "[encoded data removed]",
      "text/plain": [
       "<matplotlib.figure.Figure at 0x2ce465c4fd0>"
      ]
     },
     "metadata": {},
     "output_type": "display_data"
    },
    {
     "name": "stdout",
     "output_type": "stream",
     "text": [
      "true labels\n",
      "['t-shirt', 'trouser', 'pullover', 'pullover', 'dress,', 'pullover', 'bag', 'shirt', 'sandal']\n",
      "predicted labels\n",
      "['shirt', 'trouser', 'pullover', 't-shirt', 'dress,', 'shirt', 'bag', 'coat', 'sandal']\n"
     ]
    }
   ],
   "source": [
    "data, label = mnist_test[0:9]\n",
    "show_images(data)\n",
    "print('true labels')\n",
    "print(get_text_labels(label))\n",
    "\n",
    "predicted_labels = net(data).argmax(axis=1)\n",
    "print('predicted labels')\n",
    "print(get_text_labels(predicted_labels.asnumpy()))"
   ]
  },
  {
   "cell_type": "markdown",
   "metadata": {},
   "source": [
    "## 结论\n",
    "\n",
    "与前面的线性回归相比，你会发现多类逻辑回归教程的结构跟其非常相似：获取数据、定义模型及优化算法和求解。事实上，几乎所有的实际神经网络应用都有着同样结构。他们的主要区别在于模型的类型和数据的规模。每一两年会有一个新的优化算法出来，但它们基本都是随机梯度下降的变种。\n",
    "\n",
    "## 练习\n",
    "\n",
    "尝试增大学习率，你会马上发现结果变得很糟糕，精度基本徘徊在随机的 $0.1$ 左右。这是为什么呢？提示：\n",
    "\n",
    "+ 打印下output看看是不是有什么异常\n",
    "* 前面线性回归还好好的，这里我们在 `net()` 里加了什么呢？\n",
    "- 如果给 `exp` 输入个很大的数会怎么样？\n",
    "- 即使解决 `exp` 的问题，求出来的导数是不是还是不稳定？\n",
    "\n",
    "请仔细想想再去对比下我们小伙伴之一@[pluskid](https://github.com/pluskid)早年写的一篇[blog解释这个问题](http://freemind.pluskid.org/machine-learning/softmax-vs-softmax-loss-numerical-stability/)，看看你想的是不是不一样。\n",
    "\n",
    "**吐槽和讨论欢迎点**[这里](https://discuss.gluon.ai/t/topic/741)"
   ]
  },
  {
   "cell_type": "code",
   "execution_count": null,
   "metadata": {},
   "outputs": [],
   "source": []
  }
 ],
 "metadata": {
  "kernelspec": {
   "display_name": "Python [default]",
   "language": "python",
   "name": "python3"
  },
  "language_info": {
   "codemirror_mode": {
    "name": "ipython",
    "version": 3
   },
   "file_extension": ".py",
   "mimetype": "text/x-python",
   "name": "python",
   "nbconvert_exporter": "python",
   "pygments_lexer": "ipython3",
   "version": "3.6.5"
  },
  "latex_envs": {
   "LaTeX_envs_menu_present": true,
   "autoclose": false,
   "autocomplete": true,
   "bibliofile": "biblio.bib",
   "cite_by": "apalike",
   "current_citInitial": 1,
   "eqLabelWithNumbers": true,
   "eqNumInitial": 1,
   "hotkeys": {
    "equation": "Ctrl-E",
    "itemize": "Ctrl-I"
   },
   "labels_anchors": false,
   "latex_user_defs": false,
   "report_style_numbering": false,
   "user_envs_cfg": false
  },
  "nbTranslate": {
   "displayLangs": [
    "*"
   ],
   "hotkey": "alt-t",
   "langInMainMenu": true,
   "sourceLang": "en",
   "targetLang": "fr",
   "useGoogleTranslate": true
  },
  "toc": {
   "base_numbering": 1,
   "nav_menu": {},
   "number_sections": true,
   "sideBar": true,
   "skip_h1_title": false,
   "title_cell": "Table of Contents",
   "title_sidebar": "Contents",
   "toc_cell": false,
   "toc_position": {},
   "toc_section_display": true,
   "toc_window_display": false
  },
  "varInspector": {
   "cols": {
    "lenName": 16,
    "lenType": 16,
    "lenVar": 40
   },
   "kernels_config": {
    "python": {
     "delete_cmd_postfix": "",
     "delete_cmd_prefix": "del ",
     "library": "var_list.py",
     "varRefreshCmd": "print(var_dic_list())"
    },
    "r": {
     "delete_cmd_postfix": ") ",
     "delete_cmd_prefix": "rm(",
     "library": "var_list.r",
     "varRefreshCmd": "cat(var_dic_list()) "
    }
   },
   "types_to_exclude": [
    "module",
    "function",
    "builtin_function_or_method",
    "instance",
    "_Feature"
   ],
   "window_display": false
  }
 },
 "nbformat": 4,
 "nbformat_minor": 2
}
